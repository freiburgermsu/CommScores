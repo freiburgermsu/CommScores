{
 "cells": [
  {
   "cell_type": "code",
   "execution_count": null,
   "metadata": {},
   "outputs": [],
   "source": [
    "from commscores import CommScores"
   ]
  },
  {
   "cell_type": "code",
   "execution_count": 3,
   "metadata": {},
   "outputs": [],
   "source": [
    "from cobra.io import read_sbml_model"
   ]
  },
  {
   "cell_type": "code",
   "execution_count": 5,
   "metadata": {},
   "outputs": [],
   "source": [
    "model1 = read_sbml_model(\"../data/models/GCF_001424595.1.RAST.mdl\")\n",
    "model2 = read_sbml_model(\"../data/models/GCF_001426165.1.RAST.mdl\")\n",
    "\n",
    "media = {\"R2A_M\": {'EX_cpd03424_e0': 1000,\n",
    " 'EX_cpd00215_e0': 1000,\n",
    " 'EX_cpd00028_e0': 1000,\n",
    " 'EX_cpd10515_e0': 1000,\n",
    " 'EX_cpd00030_e0': 1000,\n",
    " 'EX_cpd00149_e0': 1000,\n",
    " 'EX_cpd00058_e0': 1000,\n",
    " 'EX_cpd00099_e0': 1000,\n",
    " 'EX_cpd00007_e0': 1000,\n",
    " 'EX_cpd00034_e0': 1000,\n",
    " 'EX_cpd00156_e0': 1000,\n",
    " 'EX_cpd00249_e0': 1000,\n",
    " 'EX_cpd00092_e0': 1000,\n",
    " 'EX_cpd00069_e0': 1000,\n",
    " 'EX_cpd00065_e0': 1000,\n",
    " 'EX_cpd00184_e0': 1000,\n",
    " 'EX_cpd00161_e0': 1000,\n",
    " 'EX_cpd00048_e0': 1000,\n",
    " 'EX_cpd00054_e0': 1000,\n",
    " 'EX_cpd00220_e0': 1000,\n",
    " 'EX_cpd00129_e0': 1000,\n",
    " 'EX_cpd00644_e0': 1000,\n",
    " 'EX_cpd00009_e0': 1000,\n",
    " 'EX_cpd00066_e0': 1000,\n",
    " 'EX_cpd00218_e0': 1000,\n",
    " 'EX_cpd00971_e0': 1000,\n",
    " 'EX_cpd00254_e0': 1000,\n",
    " 'EX_cpd00060_e0': 1000,\n",
    " 'EX_cpd00039_e0': 1000,\n",
    " 'EX_cpd00107_e0': 1000,\n",
    " 'EX_cpd00205_e0': 1000,\n",
    " 'EX_cpd00246_e0': 1000,\n",
    " 'EX_cpd00322_e0': 1000,\n",
    " 'EX_cpd00226_e0': 1000,\n",
    " 'EX_cpd00119_e0': 1000,\n",
    " 'EX_cpd00531_e0': 1000,\n",
    " 'EX_cpd00001_e0': 1000,\n",
    " 'EX_cpd00067_e0': 1000,\n",
    " 'EX_cpd00033_e0': 1000,\n",
    " 'EX_cpd00023_e0': 1000,\n",
    " 'EX_cpd00027_e0': 1000,\n",
    " 'EX_cpd00393_e0': 1000,\n",
    " 'EX_cpd10516_e0': 1000,\n",
    " 'EX_cpd00654_e0': 1000,\n",
    " 'EX_cpd00438_e0': 1000,\n",
    " 'EX_cpd00381_e0': 1000,\n",
    " 'EX_cpd11595_e0': 1000,\n",
    " 'EX_cpd01012_e0': 1000,\n",
    " 'EX_cpd00063_e0': 1000,\n",
    " 'EX_cpd00041_e0': 1000,\n",
    " 'EX_cpd01048_e0': 1000,\n",
    " 'EX_cpd00051_e0': 1000,\n",
    " 'EX_cpd00035_e0': 1000,\n",
    " 'EX_cpd00182_e0': 1000,\n",
    " 'EX_cpd00311_e0': 1000,\n",
    " 'EX_cpd00126_e0': 1000,\n",
    " 'EX_cpd00018_e0': 1000,\n",
    " 'EX_cpd00091_e0': 1000,\n",
    " 'EX_cpd00046_e0': 1000,\n",
    " 'EX_cpd00793_e0': 1000,\n",
    " 'EX_cpd00541_e0': 1000,\n",
    " 'EX_cpd00239_e0': 1000,\n",
    " 'EX_cpd00013_e0': 1000,\n",
    " 'EX_cpd00244_e0': 1000,\n",
    " 'EX_cpd11574_e0': 1000,\n",
    " 'EX_cpd00020_e0': 1000,\n",
    " 'EX_cpd11657_e0': 1000,\n",
    " 'EX_cpd00116_e0': 1000}}"
   ]
  },
  {
   "cell_type": "code",
   "execution_count": 6,
   "metadata": {},
   "outputs": [
    {
     "name": "stdout",
     "output_type": "stream",
     "text": [
      "The minimal flux media consists of 34 compounds and a 3739.6371153282216 total influx, with a growth value of 131.37497216084452\n",
      "The minimal media of all members:\n",
      "{'': {'media': {'EX_cpd00076_e0': 806.8411854604061, 'EX_cpd00268_e0': 2.371913320762306, 'EX_cpd00024_e0': 1000.0, 'EX_cpd15606_e0': 15.235049990512367, 'EX_cpd15604_e0': 44.93774387381981, 'EX_cpd00644_e0': 1.7480985899748072, 'EX_cpd01914_e0': 4.381869999811452, 'EX_cpd00058_e0': 0.8740492949874324, 'EX_cpd11591_e0': 16.415431495581792, 'EX_cpd00307_e0': 955.7529952057928, 'EX_cpd00034_e0': 0.8740492949874324, 'EX_cpd10516_e0': 0.8740492949874324, 'EX_cpd10515_e0': 2.6221478849622972, 'EX_cpd00118_e0': 0.8740492949874324, 'EX_cpd00080_e0': 152.75953101006078, 'EX_cpd00048_e0': 0.8740492949874322, 'EX_cpd00104_e0': 0.8740492949874324, 'EX_cpd00063_e0': 0.8740492949874322, 'EX_cpd00149_e0': 0.8740492949874323, 'EX_cpd00156_e0': 39.797459492026775, 'EX_cpd00264_e0': 0.8740492949874324, 'EX_cpd00030_e0': 0.8740492949874322, 'EX_cpd00205_e0': 0.8740492949874324, 'EX_cpd15605_e0': 22.786827671866163, 'EX_cpd11584_e0': 10.598524498542444, 'EX_cpd00099_e0': 0.8740492949874323, 'EX_cpd00007_e0': 470.79097226855015, 'EX_cpd00393_e0': 2.6221478849622875, 'EX_cpd11592_e0': 2.7102725195260723e-12, 'EX_cpd00132_e0': 19.183329342361766, 'EX_cpd00254_e0': 0.8740492949874323, 'EX_cpd00794_e0': 42.187553609598815, 'EX_cpd00129_e0': 116.36764359880208, 'EX_cpd00793_e0': 0.8740492949874324}}}\n",
      "\n",
      "Examining the 1 model pairs\n",
      "cpd11416_c0 bio1: cpd11416_c2 --> cpd11416_c0;\tcpd11416_c0 SK_cpd11416_c0: cpd11416_c0 <=> ;\t"
     ]
    },
    {
     "ename": "TypeError",
     "evalue": "float() argument must be a string or a real number, not 'list'",
     "output_type": "error",
     "traceback": [
      "\u001b[0;31m---------------------------------------------------------------------------\u001b[0m",
      "\u001b[0;31mTypeError\u001b[0m                                 Traceback (most recent call last)",
      "Cell \u001b[0;32mIn[6], line 1\u001b[0m\n\u001b[0;32m----> 1\u001b[0m df, mets \u001b[39m=\u001b[39m CommScores\u001b[39m.\u001b[39;49mkbase_output([model1, model2], environments\u001b[39m=\u001b[39;49mmedia, skip_bad_media\u001b[39m=\u001b[39;49m\u001b[39mTrue\u001b[39;49;00m, print_progress\u001b[39m=\u001b[39;49m\u001b[39mTrue\u001b[39;49;00m)\n",
      "File \u001b[0;32m~/Documents/Work/CommScores/commscores/commscores.py:452\u001b[0m, in \u001b[0;36mCommScores.kbase_output\u001b[0;34m(all_models, pairs, mem_media, pair_limit, exclude_pairs, kbase_obj, annotated_genomes, see_media, environments, pool_size, cip_score, costless, skip_bad_media, anme_comm, print_progress)\u001b[0m\n\u001b[1;32m    450\u001b[0m     series \u001b[39m=\u001b[39m chain\u001b[39m.\u001b[39mfrom_iterable([ele[\u001b[39m0\u001b[39m] \u001b[39mfor\u001b[39;00m ele \u001b[39min\u001b[39;00m output])\n\u001b[1;32m    451\u001b[0m     mets \u001b[39m=\u001b[39m chain\u001b[39m.\u001b[39mfrom_iterable([ele[\u001b[39m1\u001b[39m] \u001b[39mfor\u001b[39;00m ele \u001b[39min\u001b[39;00m output])\n\u001b[0;32m--> 452\u001b[0m \u001b[39melse\u001b[39;00m:  series, mets \u001b[39m=\u001b[39m CommScores\u001b[39m.\u001b[39;49mcalculate_scores(pairs, models_media, environments, annotated_genomes, lazy_load,\n\u001b[1;32m    453\u001b[0m                                                   kbase_obj, cip_score, costless, skip_bad_media, anme_comm, print_progress)\n\u001b[1;32m    454\u001b[0m \u001b[39mreturn\u001b[39;00m concat(series, axis\u001b[39m=\u001b[39m\u001b[39m1\u001b[39m)\u001b[39m.\u001b[39mT, mets\n",
      "File \u001b[0;32m~/Documents/Work/CommScores/commscores/commscores.py:316\u001b[0m, in \u001b[0;36mCommScores.calculate_scores\u001b[0;34m(pairs, models_media, environments, annotated_genomes, lazy_load, kbase_obj, cip_score, costless, skip_bad_media, anme_comm, print_progress)\u001b[0m\n\u001b[1;32m    314\u001b[0m grouping \u001b[39m=\u001b[39m [model1, model2]  ;  grouping_utils \u001b[39m=\u001b[39m [model_utils[model1\u001b[39m.\u001b[39mid], model_utils[model2\u001b[39m.\u001b[39mid]]\n\u001b[1;32m    315\u001b[0m comm_model \u001b[39m=\u001b[39m build_from_species_models(grouping)\n\u001b[0;32m--> 316\u001b[0m community \u001b[39m=\u001b[39m MSCommunity(comm_model, grouping)\n\u001b[1;32m    317\u001b[0m comm_sol \u001b[39m=\u001b[39m comm_model\u001b[39m.\u001b[39moptimize()\n\u001b[1;32m    318\u001b[0m modelIDs \u001b[39m=\u001b[39m [model\u001b[39m.\u001b[39mid \u001b[39mfor\u001b[39;00m model \u001b[39min\u001b[39;00m grouping]\n",
      "File \u001b[0;32m~/.virtualenvs/CommScores-fgpt/lib/python3.10/site-packages/modelseedpy_freiburgermsu/community/mscommunity.py:131\u001b[0m, in \u001b[0;36mMSCommunity.__init__\u001b[0;34m(self, model, member_models, ids, abundances, kinetic_coeff, flux_limit, lp_filename, printing)\u001b[0m\n\u001b[1;32m    129\u001b[0m     \u001b[39mif\u001b[39;00m \u001b[39m\"\u001b[39m\u001b[39mEX_\u001b[39m\u001b[39m\"\u001b[39m \u001b[39mnot\u001b[39;00m \u001b[39min\u001b[39;00m rxn\u001b[39m.\u001b[39mid \u001b[39mand\u001b[39;00m member\u001b[39m.\u001b[39mindex \u001b[39m==\u001b[39m FBAHelper\u001b[39m.\u001b[39mrxn_compartment(rxn)[\u001b[39m1\u001b[39m:]:\n\u001b[1;32m    130\u001b[0m         vars_coef[rxn\u001b[39m.\u001b[39mforward_variable] \u001b[39m=\u001b[39m vars_coef[rxn\u001b[39m.\u001b[39mreverse_variable] \u001b[39m=\u001b[39m \u001b[39m1\u001b[39m\n\u001b[0;32m--> 131\u001b[0m \u001b[39mself\u001b[39m\u001b[39m.\u001b[39mutil\u001b[39m.\u001b[39mcreate_constraint(Constraint(Zero, lb\u001b[39m=\u001b[39;49m\u001b[39m0\u001b[39;49m, ub\u001b[39m=\u001b[39;49mflux_limit\u001b[39m*\u001b[39;49mmember\u001b[39m.\u001b[39;49mabundance,\n\u001b[1;32m    132\u001b[0m                                        name\u001b[39m=\u001b[39;49m\u001b[39mf\u001b[39;49m\u001b[39m\"\u001b[39;49m\u001b[39m{\u001b[39;49;00mmember\u001b[39m.\u001b[39;49mid\u001b[39m}\u001b[39;49;00m\u001b[39m_resource_balance\u001b[39;49m\u001b[39m\"\u001b[39;49m), coef\u001b[39m=\u001b[39mvars_coef)\n",
      "File \u001b[0;32m~/.virtualenvs/CommScores-fgpt/lib/python3.10/site-packages/optlang/glpk_interface.py:159\u001b[0m, in \u001b[0;36mConstraint.__init__\u001b[0;34m(self, expression, sloppy, *args, **kwargs)\u001b[0m\n\u001b[1;32m    157\u001b[0m \u001b[39mdef\u001b[39;00m \u001b[39m__init__\u001b[39m(\u001b[39mself\u001b[39m, expression, sloppy\u001b[39m=\u001b[39m\u001b[39mFalse\u001b[39;00m, \u001b[39m*\u001b[39margs, \u001b[39m*\u001b[39m\u001b[39m*\u001b[39mkwargs):\n\u001b[1;32m    158\u001b[0m     _glpk_validate_id(kwargs\u001b[39m.\u001b[39mget(\u001b[39m\"\u001b[39m\u001b[39mname\u001b[39m\u001b[39m\"\u001b[39m, \u001b[39m\"\u001b[39m\u001b[39mGoodName\u001b[39m\u001b[39m\"\u001b[39m))\n\u001b[0;32m--> 159\u001b[0m     \u001b[39msuper\u001b[39;49m(Constraint, \u001b[39mself\u001b[39;49m)\u001b[39m.\u001b[39;49m\u001b[39m__init__\u001b[39;49m(expression, sloppy\u001b[39m=\u001b[39;49msloppy, \u001b[39m*\u001b[39;49margs, \u001b[39m*\u001b[39;49m\u001b[39m*\u001b[39;49mkwargs)\n\u001b[1;32m    160\u001b[0m     \u001b[39mif\u001b[39;00m \u001b[39mnot\u001b[39;00m sloppy:\n\u001b[1;32m    161\u001b[0m         \u001b[39mif\u001b[39;00m \u001b[39mnot\u001b[39;00m \u001b[39mself\u001b[39m\u001b[39m.\u001b[39mis_Linear:\n",
      "File \u001b[0;32m~/.virtualenvs/CommScores-fgpt/lib/python3.10/site-packages/optlang/interface.py:681\u001b[0m, in \u001b[0;36mConstraint.__init__\u001b[0;34m(self, expression, lb, ub, indicator_variable, active_when, *args, **kwargs)\u001b[0m\n\u001b[1;32m    679\u001b[0m \u001b[39mself\u001b[39m\u001b[39m.\u001b[39m_problem \u001b[39m=\u001b[39m \u001b[39mNone\u001b[39;00m\n\u001b[1;32m    680\u001b[0m \u001b[39mself\u001b[39m\u001b[39m.\u001b[39mlb \u001b[39m=\u001b[39m lb\n\u001b[0;32m--> 681\u001b[0m \u001b[39mself\u001b[39;49m\u001b[39m.\u001b[39;49mub \u001b[39m=\u001b[39m ub\n\u001b[1;32m    682\u001b[0m \u001b[39msuper\u001b[39m(Constraint, \u001b[39mself\u001b[39m)\u001b[39m.\u001b[39m\u001b[39m__init__\u001b[39m(expression, \u001b[39m*\u001b[39margs, \u001b[39m*\u001b[39m\u001b[39m*\u001b[39mkwargs)\n\u001b[1;32m    683\u001b[0m \u001b[39mself\u001b[39m\u001b[39m.\u001b[39m__check_valid_indicator_variable(indicator_variable)\n",
      "File \u001b[0;32m~/.virtualenvs/CommScores-fgpt/lib/python3.10/site-packages/optlang/glpk_interface.py:187\u001b[0m, in \u001b[0;36mConstraint.ub\u001b[0;34m(self, value)\u001b[0m\n\u001b[1;32m    185\u001b[0m \u001b[39m@interface\u001b[39m\u001b[39m.\u001b[39mConstraint\u001b[39m.\u001b[39mub\u001b[39m.\u001b[39msetter\n\u001b[1;32m    186\u001b[0m \u001b[39mdef\u001b[39;00m \u001b[39mub\u001b[39m(\u001b[39mself\u001b[39m, value):\n\u001b[0;32m--> 187\u001b[0m     \u001b[39msuper\u001b[39;49m(Constraint, Constraint)\u001b[39m.\u001b[39;49mub\u001b[39m.\u001b[39;49mfset(\u001b[39mself\u001b[39;49m, value)\n\u001b[1;32m    188\u001b[0m     \u001b[39mif\u001b[39;00m \u001b[39mself\u001b[39m\u001b[39m.\u001b[39mproblem \u001b[39mis\u001b[39;00m \u001b[39mnot\u001b[39;00m \u001b[39mNone\u001b[39;00m:\n\u001b[1;32m    189\u001b[0m         \u001b[39mself\u001b[39m\u001b[39m.\u001b[39mproblem\u001b[39m.\u001b[39m_glpk_set_row_bounds(\u001b[39mself\u001b[39m)\n",
      "File \u001b[0;32m~/.virtualenvs/CommScores-fgpt/lib/python3.10/site-packages/optlang/interface.py:705\u001b[0m, in \u001b[0;36mConstraint.ub\u001b[0;34m(self, value)\u001b[0m\n\u001b[1;32m    703\u001b[0m \u001b[39m@ub\u001b[39m\u001b[39m.\u001b[39msetter\n\u001b[1;32m    704\u001b[0m \u001b[39mdef\u001b[39;00m \u001b[39mub\u001b[39m(\u001b[39mself\u001b[39m, value):\n\u001b[0;32m--> 705\u001b[0m     \u001b[39mself\u001b[39;49m\u001b[39m.\u001b[39;49m_check_valid_upper_bound(value)\n\u001b[1;32m    706\u001b[0m     \u001b[39mself\u001b[39m\u001b[39m.\u001b[39m_ub \u001b[39m=\u001b[39m value\n",
      "File \u001b[0;32m~/.virtualenvs/CommScores-fgpt/lib/python3.10/site-packages/optlang/interface.py:638\u001b[0m, in \u001b[0;36mConstraint._check_valid_upper_bound\u001b[0;34m(self, value)\u001b[0m\n\u001b[1;32m    637\u001b[0m \u001b[39mdef\u001b[39;00m \u001b[39m_check_valid_upper_bound\u001b[39m(\u001b[39mself\u001b[39m, value):\n\u001b[0;32m--> 638\u001b[0m     \u001b[39mif\u001b[39;00m \u001b[39mnot\u001b[39;00m (value \u001b[39mis\u001b[39;00m \u001b[39mNone\u001b[39;00m \u001b[39mor\u001b[39;00m is_numeric(value)):\n\u001b[1;32m    639\u001b[0m         \u001b[39mraise\u001b[39;00m \u001b[39mTypeError\u001b[39;00m(\u001b[39m\"\u001b[39m\u001b[39mConstraint bounds must be numeric or None, not \u001b[39m\u001b[39m{}\u001b[39;00m\u001b[39m\"\u001b[39m\u001b[39m.\u001b[39mformat(\u001b[39mtype\u001b[39m(value)))\n\u001b[1;32m    640\u001b[0m     \u001b[39mif\u001b[39;00m value \u001b[39mis\u001b[39;00m \u001b[39mnot\u001b[39;00m \u001b[39mNone\u001b[39;00m \u001b[39mand\u001b[39;00m \u001b[39mgetattr\u001b[39m(\u001b[39mself\u001b[39m, \u001b[39m\"\u001b[39m\u001b[39mlb\u001b[39m\u001b[39m\"\u001b[39m, \u001b[39mNone\u001b[39;00m) \u001b[39mis\u001b[39;00m \u001b[39mnot\u001b[39;00m \u001b[39mNone\u001b[39;00m \u001b[39mand\u001b[39;00m value \u001b[39m<\u001b[39m \u001b[39mself\u001b[39m\u001b[39m.\u001b[39mlb:\n",
      "File \u001b[0;32m~/.virtualenvs/CommScores-fgpt/lib/python3.10/site-packages/optlang/util.py:211\u001b[0m, in \u001b[0;36mis_numeric\u001b[0;34m(obj)\u001b[0m\n\u001b[1;32m    209\u001b[0m \u001b[39melse\u001b[39;00m:\n\u001b[1;32m    210\u001b[0m     \u001b[39mtry\u001b[39;00m:\n\u001b[0;32m--> 211\u001b[0m         \u001b[39mfloat\u001b[39;49m(obj)\n\u001b[1;32m    212\u001b[0m     \u001b[39mexcept\u001b[39;00m \u001b[39mValueError\u001b[39;00m:\n\u001b[1;32m    213\u001b[0m         \u001b[39mreturn\u001b[39;00m \u001b[39mFalse\u001b[39;00m\n",
      "\u001b[0;31mTypeError\u001b[0m: float() argument must be a string or a real number, not 'list'"
     ]
    }
   ],
   "source": [
    "df, mets = CommScores.kbase_output([model1, model2], environments=media, print_progress=True)"
   ]
  },
  {
   "cell_type": "code",
   "execution_count": 7,
   "metadata": {},
   "outputs": [
    {
     "data": {
      "text/html": [
       "\n",
       "        <table>\n",
       "            <tr>\n",
       "                <td><strong>Name</strong></td>\n",
       "                <td></td>\n",
       "            </tr><tr>\n",
       "                <td><strong>Memory address</strong></td>\n",
       "                <td>7f803c43acb0</td>\n",
       "            </tr><tr>\n",
       "                <td><strong>Number of metabolites</strong></td>\n",
       "                <td>1107</td>\n",
       "            </tr><tr>\n",
       "                <td><strong>Number of reactions</strong></td>\n",
       "                <td>1193</td>\n",
       "            </tr><tr>\n",
       "                <td><strong>Number of genes</strong></td>\n",
       "                <td>831</td>\n",
       "            </tr><tr>\n",
       "                <td><strong>Number of groups</strong></td>\n",
       "                <td>564</td>\n",
       "            </tr><tr>\n",
       "                <td><strong>Objective expression</strong></td>\n",
       "                <td>1.0*bio1 - 1.0*bio1_reverse_b18f7</td>\n",
       "            </tr><tr>\n",
       "                <td><strong>Compartments</strong></td>\n",
       "                <td>Cytosol, Extracellular</td>\n",
       "            </tr>\n",
       "          </table>"
      ],
      "text/plain": [
       "<Model  at 0x7f803c43acb0>"
      ]
     },
     "execution_count": 7,
     "metadata": {},
     "output_type": "execute_result"
    }
   ],
   "source": [
    "model1"
   ]
  },
  {
   "cell_type": "code",
   "execution_count": 8,
   "metadata": {},
   "outputs": [
    {
     "data": {
      "text/html": [
       "\n",
       "        <table>\n",
       "            <tr>\n",
       "                <td><strong>Name</strong></td>\n",
       "                <td></td>\n",
       "            </tr><tr>\n",
       "                <td><strong>Memory address</strong></td>\n",
       "                <td>7f803a720400</td>\n",
       "            </tr><tr>\n",
       "                <td><strong>Number of metabolites</strong></td>\n",
       "                <td>1260</td>\n",
       "            </tr><tr>\n",
       "                <td><strong>Number of reactions</strong></td>\n",
       "                <td>1411</td>\n",
       "            </tr><tr>\n",
       "                <td><strong>Number of genes</strong></td>\n",
       "                <td>1202</td>\n",
       "            </tr><tr>\n",
       "                <td><strong>Number of groups</strong></td>\n",
       "                <td>756</td>\n",
       "            </tr><tr>\n",
       "                <td><strong>Objective expression</strong></td>\n",
       "                <td>1.0*bio1 - 1.0*bio1_reverse_b18f7</td>\n",
       "            </tr><tr>\n",
       "                <td><strong>Compartments</strong></td>\n",
       "                <td>Cytosol, Extracellular</td>\n",
       "            </tr>\n",
       "          </table>"
      ],
      "text/plain": [
       "<Model  at 0x7f803a720400>"
      ]
     },
     "execution_count": 8,
     "metadata": {},
     "output_type": "execute_result"
    }
   ],
   "source": [
    "model2"
   ]
  },
  {
   "cell_type": "code",
   "execution_count": null,
   "metadata": {},
   "outputs": [],
   "source": []
  }
 ],
 "metadata": {
  "kernelspec": {
   "display_name": "CommScores-fgpt",
   "language": "python",
   "name": "python3"
  },
  "language_info": {
   "codemirror_mode": {
    "name": "ipython",
    "version": 3
   },
   "file_extension": ".py",
   "mimetype": "text/x-python",
   "name": "python",
   "nbconvert_exporter": "python",
   "pygments_lexer": "ipython3",
   "version": "3.10.12"
  },
  "orig_nbformat": 4
 },
 "nbformat": 4,
 "nbformat_minor": 2
}
