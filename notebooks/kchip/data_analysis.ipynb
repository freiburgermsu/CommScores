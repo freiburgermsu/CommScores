{
 "cells": [
  {
   "cell_type": "code",
   "execution_count": null,
   "metadata": {},
   "outputs": [],
   "source": [
    "import pathlib\n",
    "\n",
    "import pandas as pd"
   ]
  },
  {
   "cell_type": "markdown",
   "metadata": {},
   "source": [
    "## Parse the NCBI BLAST outputs\n",
    "\n",
    "1. We BLAST the query sequences in `sequences.fna` against the NCBI 16S reference database using the web tool\n",
    "2. The outputs are downloaded into `ncbi16s_desc.csv` and `ncbi16s_hits.csv`"
   ]
  },
  {
   "cell_type": "code",
   "execution_count": null,
   "metadata": {},
   "outputs": [],
   "source": [
    "data_path = pathlib.Path(\"../../data/processed/kchip\")\n",
    "blast_path = data_path / \"blast\""
   ]
  },
  {
   "cell_type": "code",
   "execution_count": null,
   "metadata": {},
   "outputs": [],
   "source": [
    "# Headers for the hits and desc files\n",
    "ncbi_hits_header = \"qid,Accession,pidentity,length,mismatch,gapopen,qstart,qend,sstart,send,evalue,bitscore\".split(\",\")\n",
    "ncbi_desc_header = \"Description,Scientific Name,Max Score,Total Score,Query Cover,E value,Per. ident,Acc. Len,Accession Full\".split(\",\")"
   ]
  },
  {
   "cell_type": "code",
   "execution_count": null,
   "metadata": {},
   "outputs": [],
   "source": [
    "ncbi_blast_hits_file = blast_path / \"ncbi16s_hits.csv\"\n",
    "ncbi_blast_desc_file = blast_path / \"ncbi16s_desc.csv\"\n",
    "ncbi_blast_hits = pd.read_csv(ncbi_blast_hits_file, sep=\",\", names=ncbi_hits_header)\n",
    "ncbi_blast_desc = pd.read_csv(ncbi_blast_desc_file, sep=\",\", skiprows=1, names=ncbi_desc_header)"
   ]
  },
  {
   "cell_type": "code",
   "execution_count": null,
   "metadata": {},
   "outputs": [],
   "source": [
    "# Filter the blast hits based on E-value\n",
    "ncbi_blast_hits = ncbi_blast_hits[ncbi_blast_hits.evalue <= 1e-50]\n",
    "ncbi_blast_hits[\"qid\"] = [qid.split(\"_\")[0] for qid in ncbi_blast_hits.qid]\n",
    "ncbi_blast_hits"
   ]
  },
  {
   "cell_type": "code",
   "execution_count": null,
   "metadata": {},
   "outputs": [],
   "source": [
    "# Display the number of hits for each query sequence\n",
    "ncbi_blast_hits.groupby(\"qid\")[\"Accession\"].count()"
   ]
  },
  {
   "cell_type": "markdown",
   "metadata": {},
   "source": [
    "We need to parse the accession id from the accession string in the description file"
   ]
  },
  {
   "cell_type": "code",
   "execution_count": null,
   "metadata": {},
   "outputs": [],
   "source": [
    "ncbi_blast_desc[\"Accession\"] = ncbi_blast_desc[\"Accession Full\"].apply(lambda x: x.split(\",\")[-1].strip('\")'))\n",
    "ncbi_blast_desc"
   ]
  },
  {
   "cell_type": "markdown",
   "metadata": {},
   "source": [
    "Finally, we join the hits and description files together"
   ]
  },
  {
   "cell_type": "code",
   "execution_count": null,
   "metadata": {},
   "outputs": [],
   "source": [
    "ncbi_blast_results = ncbi_blast_hits.merge(ncbi_blast_desc, how=\"left\", on=\"Accession\")"
   ]
  },
  {
   "cell_type": "code",
   "execution_count": null,
   "metadata": {},
   "outputs": [],
   "source": [
    "ncbi_blast_results"
   ]
  },
  {
   "cell_type": "code",
   "execution_count": null,
   "metadata": {},
   "outputs": [],
   "source": [
    "top5_blasthits_per_qid = ncbi_blast_results.groupby(\"qid\", as_index=False).apply(lambda grp: grp.nlargest(5, \"bitscore\"))"
   ]
  },
  {
   "cell_type": "code",
   "execution_count": null,
   "metadata": {},
   "outputs": [],
   "source": [
    "top5_blasthits_per_qid.loc[:, [\"qid\", \"Accession\", \"Scientific Name\", \"pidentity\"]].head(20)"
   ]
  },
  {
   "cell_type": "markdown",
   "metadata": {},
   "source": [
    "These don't match the hits from the publication:\n",
    "\n",
    "\n",
    "![image](strain_source_table.png)"
   ]
  },
  {
   "cell_type": "markdown",
   "metadata": {},
   "source": [
    "## Download genomes from NCBI using BioPython (Entrez)"
   ]
  },
  {
   "cell_type": "code",
   "execution_count": null,
   "metadata": {},
   "outputs": [],
   "source": [
    "from Bio import Entrez"
   ]
  },
  {
   "cell_type": "code",
   "execution_count": null,
   "metadata": {},
   "outputs": [],
   "source": [
    "Entrez.email = \"kishored@ornl.gov\""
   ]
  },
  {
   "cell_type": "code",
   "execution_count": null,
   "metadata": {},
   "outputs": [],
   "source": [
    "import urllib.request\n",
    "\n",
    "def download_file(ftp_url: str, output_file: pathlib.Path):\n",
    "    url = ftp_url.replace(\"ftp://\", \"http://\")\n",
    "    with urllib.request.urlopen(url) as url_id:\n",
    "        with open(output_file, \"wb\") as fid:\n",
    "            fid.write(url_id.read())\n",
    "\n",
    "def download_genomes(scientific_name: str, output_folder: pathlib.Path) -> None:\n",
    "    # Get list of reference or representative sequences for the given organimsm using its name\n",
    "    term = f\"({scientific_name}[ORGN]) AND (reference_genome[filter] OR representative_genome[filter])\"\n",
    "    search_handle = Entrez.esearch(db=\"assembly\", idtype=\"acc\", term=term, retmax=100)\n",
    "    search_record = Entrez.read(search_handle)\n",
    "    # Get the the accession number of the first result\n",
    "    if len(search_record[\"IdList\"]) == 0: # type: ignore\n",
    "        raise ValueError(f\"No reference or representative genomes found for {scientific_name}\")\n",
    "    if len(search_record[\"IdList\"]) > 1: # type: ignore\n",
    "        print(f\"More than one reference or representative genomes found for {scientific_name}. Using the first one.\")\n",
    "    assembly_acc = search_record[\"IdList\"][0] # type: ignore\n",
    "    # Use document summary to get the ftp path for the assembly\n",
    "    summary_handle = Entrez.esummary(db=\"assembly\", id=assembly_acc)\n",
    "    document_summary = Entrez.read(summary_handle)\n",
    "    url = document_summary['DocumentSummarySet']['DocumentSummary'][0]['FtpPath_RefSeq'] # type: ignore\n",
    "    file_id = url.split(\"/\")[-1]\n",
    "    fna_url = f\"{url}/{file_id}_genomic.fna.gz\"\n",
    "    fna_file = output_folder / f\"{file_id}.fna.gz\"\n",
    "    download_file(fna_url, fna_file)\n",
    "    gff_url = f\"{url}/{file_id}_genomic.gff.gz\"\n",
    "    gff_file = output_folder / f\"{file_id}.gff.gz\"\n",
    "    download_file(gff_url, gff_file)"
   ]
  },
  {
   "cell_type": "code",
   "execution_count": null,
   "metadata": {},
   "outputs": [],
   "source": [
    "seq_folder = pathlib.Path(\"../../data/processed/kchip/sequences/\")\n",
    "for i, row in top5_blasthits_per_qid.iterrows():\n",
    "    qid = row[\"qid\"]\n",
    "    scientific_name = \" \".join(row[\"Scientific Name\"].split(\" \")[:2])\n",
    "    print(f\"{i}: Downloading fna and gff files for {scientific_name} matching {qid}\")\n",
    "    output_folder = seq_folder / f\"{qid}\"\n",
    "    output_folder.mkdir(parents=True, exist_ok=True)\n",
    "    download_genomes(scientific_name, output_folder=output_folder)"
   ]
  },
  {
   "cell_type": "code",
   "execution_count": null,
   "metadata": {},
   "outputs": [],
   "source": []
  }
 ],
 "metadata": {
  "kernelspec": {
   "display_name": "kchip",
   "language": "python",
   "name": "python3"
  },
  "language_info": {
   "codemirror_mode": {
    "name": "ipython",
    "version": 3
   },
   "file_extension": ".py",
   "mimetype": "text/x-python",
   "name": "python",
   "nbconvert_exporter": "python",
   "pygments_lexer": "ipython3",
   "version": "3.10.12"
  },
  "orig_nbformat": 4
 },
 "nbformat": 4,
 "nbformat_minor": 2
}
