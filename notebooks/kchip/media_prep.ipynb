{
 "cells": [
  {
   "cell_type": "markdown",
   "metadata": {},
   "source": [
    "## Media information\n",
    "\n",
    "The medium used in the coculture experiment was an M9 minimal medium consisting of 1× M9 salts (Teknova), 1× trace metals (Teknova), 0.1 mM calcium chloride, and 2 mM magnesium sulfate. We additionally added 0.05% (w/v) bovine serum albumin (BSA) to the medium to improve the retention of fluorescent dyes used in the droplet color codes\n",
    "\n",
    "In the coculture experiment, a total of 40 environmental conditions were used. These included the 33 chosen compounds at 0.5% (w/v), 5 of these compounds (glucose, glycerol, pyruvate, proline, and sucrose) at 0.05% (w/v), an even mix of all 33 compounds [totaling 0.5% (w/v)], and a no-carbon control."
   ]
  },
  {
   "cell_type": "markdown",
   "metadata": {},
   "source": [
    "Microbial culture:\n",
    "\n",
    "All labeled and unlabeled monocultures initially underwent two pre-experiment regrowth cycles (“starter phase” in a rich medium and “preculture phase” in minimal medium) and, at the onset of the experiment (“experiment phase”), were normalized to a starting density of OD600 = 0.02 in carbonless minimal medium. In the starter phase, glycerol stocks of the unlabeled and labeled strains were inoculated into 525 μl (0.8-ml-deep 96-well plate) of LB medium (25°C, 220 rpm, 16 hours). Inoculations from glycerol stocks were conducted via pin replicator [sterilized via 70% (v/v) ethanol bath and flame treatment between inoculations]. In the preculture phase, all cultures were washed in carbonless M9 medium two times and then diluted (1:50) into 1-ml M9 medium with 0.5% (w/v) glucose (25°C, 220 rpm, 24 hours). Last, the experimental phase began by washing cells three times in a carbonless M9 medium to remove residual glucose and normalizing to a starting OD600 of 0.02 (or ~20 cells per droplet depending on the strain)."
   ]
  },
  {
   "cell_type": "code",
   "execution_count": null,
   "metadata": {},
   "outputs": [],
   "source": []
  }
 ],
 "metadata": {
  "kernelspec": {
   "display_name": "CommScores-fgpt",
   "language": "python",
   "name": "python3"
  },
  "language_info": {
   "codemirror_mode": {
    "name": "ipython",
    "version": 3
   },
   "file_extension": ".py",
   "mimetype": "text/x-python",
   "name": "python",
   "nbconvert_exporter": "python",
   "pygments_lexer": "ipython3",
   "version": "3.10.12"
  },
  "orig_nbformat": 4
 },
 "nbformat": 4,
 "nbformat_minor": 2
}
