{
 "cells": [
  {
   "cell_type": "code",
   "execution_count": null,
   "metadata": {},
   "outputs": [],
   "source": [
    "import cobrakbase\n",
    "with open(\"/Users/afreiburger/Documents/kbase_token.txt\") as token_file:\n",
    "# with open(\"C:/Users/Andrew Freiburger/Documents/Argonne/kbase_token.txt\") as token_file:\n",
    "    kbase_api = cobrakbase.KBaseAPI(token_file.readline())\n",
    "\n",
    "models_strings = ['Lysobacter_sp._CF310_2616644831.fna.RAST.glm4ec.mdl (v1)',\n",
    " 'Arthrobacter_sp._OV407_2609459738.fna.RAST.gim4ec.mdl (v1)',\n",
    " 'Rhizobium_sp._PDC82_2690315628.fna.RAST.glm4ec.madl (v1)',\n",
    " 'Duganella_sp._CF402_2616644845.fna.RAST.glm4ec.mdl (v1)',\n",
    " 'Acinetobacter_sp._YR461_2615840642.fna.RAST.glm4ec.mdl (v1)',\n",
    " 'Stenotrophomonas_sp._CF319_2758568591.fna.RAST.glm4ec.mdl (v1)',\n",
    " 'Sphingobium_sp._YR768_2687453792.fna.RAST.gim4ec.mdl (v1)',\n",
    " '',\n",
    " 'Ensifer_sp._YR511_2615840643.fna.RAST.glm4ec.mdl (v1)',\n",
    " '',\n",
    " 'Acinetobacter_sp._YR461_2615840642.fna.RAST.glm4ec.mdl (v1)',\n",
    " 'Pseudoxanthomonas_sp._CF385_2690315626.fna.RAST.glm4ec.madl (v1)',\n",
    " 'Elizabethkingia_sp._YR214_2738541273.fna.RAST.glm4ec.mdl (v1)',\n",
    " 'Dyella_sp._OK004_2609459631.fna.RAST.glm4ec.mdl (v1)',\n",
    " 'Plantibacter_sp._YR521_2758568592.fna.RAST.glm4ec.mdl (v1)',\n",
    " 'Pseudomonas_sp._OV144_2757320538.fna.RAST.glm4ec.madl (v1)',\n",
    " 'Sphingobium_sp._YR657_2687453679.fna.RAST.glm4ec.madl (v1)',\n",
    " 'Caulobacter_sp._OV484_2585428106.fna.RAST.glm4ec.madl (v1)',\n",
    " 'Rahnella_aquatilis_OV588_2585427592.fna.RAST.glm4ec.mdl (v1)',\n",
    " 'Pseudomonas_sp._GM17_2511231006.fna.RAST.glm4ec.madl (v1)',\n",
    " 'Agromyces_sp._OV415_2757320520.fna.RAST.glm4ec.madl (v1)',\n",
    " '',\n",
    " 'Albidiferax_sp._OV413_2615840603.fna.RAST.glm4ec.mdl (v1)',\n",
    " '']\n",
    "models_strings = [model.replace(\" (v1)\", \"\") for model in models_strings]\n",
    "\n",
    "models = [kbase_api.get_from_ws(model_name, 179194) for model_name in models_strings]\n",
    "display(models)"
   ]
  },
  {
   "cell_type": "code",
   "execution_count": null,
   "metadata": {},
   "outputs": [],
   "source": []
  },
  {
   "cell_type": "markdown",
   "metadata": {},
   "source": [
    "# the 20 media from the kChip pairwise paper\n",
    "\n",
    "[\n",
    "    tryptic soy broth (TSB; Bacto),\n",
    "    1% (v/v) TSB,\n",
    "    lysogeny broth (LB; Bacto),\n",
    "    1% (v/v) LB,\n",
    "    nutrient broth (NB; Bacto),\n",
    "    1% (v/v) NB,\n",
    "    M9 salts (Sigma-Aldrich) + 0.5% (w/v) glucose,\n",
    "    M9 salts + 0.005% (w/v) glucose,\n",
    "    M9 salts + 0.005% (w/v) glucose + 0.2% (w/v) casamino acids,\n",
    "    M9 salts + 0.005% (w/v) glucose + 0.002% (w/v) casamino acids,\n",
    "    M9 salts + 0.5% (w/v) glucose + 0.2% (w/v) casamino acids (pH 4 and 5),\n",
    "    M9 salts + 0.005% (w/v) glucose + 0.002% (w/v) casamino acids (pH 4 and 5),\n",
    "    actinomycete isolation agar (Teknova),\n",
    "    Brucella agar (Teknova),\n",
    "    Streptomyces medium (Teknova),\n",
    "    Campylobacter medium (Teknova),\n",
    "    Bordetella medium (Teknova),\n",
    "    ATCC medium 1111 (Teknova)\n",
    "]"
   ]
  }
 ],
 "metadata": {
  "language_info": {
   "name": "python"
  }
 },
 "nbformat": 4,
 "nbformat_minor": 2
}
