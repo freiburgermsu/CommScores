{
 "cells": [
  {
   "cell_type": "code",
   "execution_count": 10,
   "metadata": {},
   "outputs": [],
   "source": [
    "from glob import glob\n",
    "from cobra.io import read_sbml_model\n",
    "\n",
    "models = [read_sbml_model(mdl) for mdl in glob(\"*.xml\")]"
   ]
  },
  {
   "cell_type": "code",
   "execution_count": 2,
   "metadata": {},
   "outputs": [
    {
     "name": "stdout",
     "output_type": "stream",
     "text": [
      "{<Metabolite 12dgr120[p] at 0x1d6d14731f0>: -2.0, <Metabolite 12dgr120[c] at 0x1d6d1473130>: 2.0, <Metabolite cpd11416 at 0x1d70339d2b0>: 1} 2.0 12dgr120[p] --> 2.0 12dgr120[c] + cpd11416\n"
     ]
    }
   ],
   "source": [
    "# testing reaction editing logic\n",
    "\n",
    "# from cobra import Metabolite\n",
    "# for rxn in models[0].reactions:\n",
    "#     rxn_stoich = rxn.metabolites\n",
    "#     rxn_stoich.update({Metabolite(\"cpd11416\"): 1})\n",
    "#     rxn.add_metabolites(rxn_stoich)\n",
    "#     print(rxn.metabolites, rxn.reaction)\n",
    "#     break"
   ]
  },
  {
   "cell_type": "code",
   "execution_count": 16,
   "metadata": {},
   "outputs": [
    {
     "ename": "ObjectiveError",
     "evalue": "The model M_Leaf202 possesses an objective value of 0 in complete media, which is incompatible with minimal media computations.",
     "output_type": "error",
     "traceback": [
      "\u001b[0;31m---------------------------------------------------------------------------\u001b[0m",
      "\u001b[0;31mObjectiveError\u001b[0m                            Traceback (most recent call last)",
      "Cell \u001b[0;32mIn [16], line 3\u001b[0m\n\u001b[1;32m      1\u001b[0m get_ipython()\u001b[39m.\u001b[39mrun_line_magic(\u001b[39m'\u001b[39m\u001b[39mrun\u001b[39m\u001b[39m'\u001b[39m, \u001b[39m'\u001b[39m\u001b[39m../../ModelSEEDpy/modelseedpy/core/msminimalmedia.py\u001b[39m\u001b[39m'\u001b[39m)\n\u001b[0;32m----> 3\u001b[0m MSMinimalMedia\u001b[39m.\u001b[39mminimize_flux(models[\u001b[39m0\u001b[39m])\n",
      "File \u001b[0;32m~/Documents/ModelSEEDpy/modelseedpy/core/msminimalmedia.py:88\u001b[0m, in \u001b[0;36mMSMinimalMedia.minimize_flux\u001b[0;34m(org_model, min_growth, environment, interacting, printing)\u001b[0m\n\u001b[1;32m     86\u001b[0m \u001b[39m\"\"\"minimize the total in-flux of exchange reactions in the model\"\"\"\u001b[39;00m\n\u001b[1;32m     87\u001b[0m \u001b[39mif\u001b[39;00m org_model\u001b[39m.\u001b[39mslim_optimize() \u001b[39m==\u001b[39m \u001b[39m0\u001b[39m:\n\u001b[0;32m---> 88\u001b[0m     \u001b[39mraise\u001b[39;00m ObjectiveError(\u001b[39mf\u001b[39m\u001b[39m\"\u001b[39m\u001b[39mThe model \u001b[39m\u001b[39m{\u001b[39;00morg_model\u001b[39m.\u001b[39mid\u001b[39m}\u001b[39;00m\u001b[39m possesses an objective value of 0 in complete media, \u001b[39m\u001b[39m\"\u001b[39m\n\u001b[1;32m     89\u001b[0m                          \u001b[39m\"\u001b[39m\u001b[39mwhich is incompatible with minimal media computations.\u001b[39m\u001b[39m\"\u001b[39m)\n\u001b[1;32m     90\u001b[0m model_util \u001b[39m=\u001b[39m MSModelUtil(org_model, \u001b[39mTrue\u001b[39;00m)\n\u001b[1;32m     91\u001b[0m model_util\u001b[39m.\u001b[39madd_medium(environment \u001b[39mor\u001b[39;00m model_util\u001b[39m.\u001b[39mmodel\u001b[39m.\u001b[39mmedium)\n",
      "\u001b[0;31mObjectiveError\u001b[0m: The model M_Leaf202 possesses an objective value of 0 in complete media, which is incompatible with minimal media computations."
     ]
    }
   ],
   "source": [
    "%run ../../ModelSEEDpy/modelseedpy/core/msminimalmedia.py\n",
    "\n",
    "MSMinimalMedia.minimize_flux(models[0])"
   ]
  },
  {
   "cell_type": "code",
   "execution_count": 6,
   "metadata": {},
   "outputs": [
    {
     "name": "stdout",
     "output_type": "stream",
     "text": [
      "['M_Leaf145', 'M_Leaf15']\n"
     ]
    }
   ],
   "source": [
    "print([mdl.id for mdl in models[:2]])"
   ]
  },
  {
   "cell_type": "code",
   "execution_count": 7,
   "metadata": {},
   "outputs": [
    {
     "name": "stdout",
     "output_type": "stream",
     "text": [
      "cpd11416_c0 bio1: 0.5 cpd11416_c1 + 0.5 cpd11416_c2 --> cpd11416_c0;\tcpd11416_c0 SK_cpd11416_c0: cpd11416_c0 <=> ;\tM_Leaf145 300 0.5\n",
      "M_Leaf15 300 0.5\n"
     ]
    },
    {
     "data": {
      "text/plain": [
       "<__main__.MSCommunity at 0x1aaa1dd9eb0>"
      ]
     },
     "execution_count": 7,
     "metadata": {},
     "output_type": "execute_result"
    }
   ],
   "source": [
    "%run ../../ModelSEEDpy/modelseedpy/community/mscommunity.py\n",
    "from os import system\n",
    "\n",
    "# print(system(r\"ls ../../ModelSEEDpy/modelseedpy/community\"))\n",
    "\n",
    "MSCommunity(member_models=models[:2])"
   ]
  },
  {
   "cell_type": "code",
   "execution_count": 12,
   "metadata": {},
   "outputs": [
    {
     "name": "stdout",
     "output_type": "stream",
     "text": [
      "2\n"
     ]
    }
   ],
   "source": [
    "x = \"test2\"\n",
    "t = \"test\"\n",
    "\n",
    "new_string = \"\"\n",
    "for index, let in enumerate(x):\n",
    "    if index >= len(t) or index < len(t) and let != t[index]: new_string += let\n",
    "print(new_string)"
   ]
  },
  {
   "cell_type": "code",
   "execution_count": 14,
   "metadata": {},
   "outputs": [
    {
     "data": {
      "text/plain": [
       "0.0"
      ]
     },
     "execution_count": 14,
     "metadata": {},
     "output_type": "execute_result"
    }
   ],
   "source": [
    "models[0].slim_optimize()"
   ]
  },
  {
   "cell_type": "code",
   "execution_count": 21,
   "metadata": {},
   "outputs": [
    {
     "data": {
      "text/plain": [
       "'model_index9'"
      ]
     },
     "execution_count": 21,
     "metadata": {},
     "output_type": "execute_result"
    }
   ],
   "source": [
    "models[-3].id"
   ]
  },
  {
   "cell_type": "code",
   "execution_count": 22,
   "metadata": {},
   "outputs": [
    {
     "data": {
      "text/plain": [
       "[<Model M_Leaf202 at 0x149d18f10>,\n",
       " <Model M_Leaf164 at 0x14c1ddb20>,\n",
       " <Model M_Leaf15 at 0x14cffc490>,\n",
       " <Model M_Leaf304 at 0x14ab95ca0>,\n",
       " <Model M_Leaf257 at 0x14f579fd0>,\n",
       " <Model M_Leaf34 at 0x1507fcbb0>,\n",
       " <Model M_Leaf8 at 0x1519b0310>,\n",
       " <Model M_Leaf154 at 0x152929820>,\n",
       " <Model M_Leaf145 at 0x15397c250>,\n",
       " <Model model_index9 at 0x154ebbf70>,\n",
       " <Model M_Leaf179 at 0x158275100>,\n",
       " <Model M_Leaf233 at 0x158b958b0>]"
      ]
     },
     "execution_count": 22,
     "metadata": {},
     "output_type": "execute_result"
    }
   ],
   "source": [
    "models"
   ]
  },
  {
   "cell_type": "code",
   "execution_count": 18,
   "metadata": {},
   "outputs": [
    {
     "data": {
      "text/plain": [
       "81.0776846173746"
      ]
     },
     "execution_count": 18,
     "metadata": {},
     "output_type": "execute_result"
    }
   ],
   "source": [
    "models[-3].slim_optimize()"
   ]
  },
  {
   "cell_type": "code",
   "execution_count": 13,
   "metadata": {},
   "outputs": [
    {
     "name": "stdout",
     "output_type": "stream",
     "text": [
      "The model M_Leaf154 possesses an objective value of 0 in complete media, which is incompatible with minimal media computations.\n",
      "The model M_Leaf145 possesses an objective value of 0 in complete media, which is incompatible with minimal media computations.\n",
      "The model M_Leaf15 possesses an objective value of 0 in complete media, which is incompatible with minimal media computations.\n",
      "The model M_Leaf304 possesses an objective value of 0 in complete media, which is incompatible with minimal media computations.\n",
      "The model M_Leaf233 possesses an objective value of 0 in complete media, which is incompatible with minimal media computations.\n",
      "The model M_Leaf179 possesses an objective value of 0 in complete media, which is incompatible with minimal media computations.\n",
      "The model M_Leaf202 possesses an objective value of 0 in complete media, which is incompatible with minimal media computations.\n",
      "The model M_Leaf164 possesses an objective value of 0 in complete media, which is incompatible with minimal media computations.\n",
      "The model M_Leaf8 possesses an objective value of 0 in complete media, which is incompatible with minimal media computations.\n",
      "The minimal flux media consists of 70 compounds and a 14198.180005321721 total influx, with a growth value of 81.07768461737473\n",
      "The model M_Leaf34 possesses an objective value of 0 in complete media, which is incompatible with minimal media computations.\n",
      "The model M_Leaf257 possesses an objective value of 0 in complete media, which is incompatible with minimal media computations.\n",
      "The minimal media of all members:\n",
      "{'model_index9': {'media': {'EX_cpd00150_e0': 7.471795103598631, 'EX_cpd00051_e0': 780.0076233004222, 'EX_cpd00132_e0': 425.3840293863618, 'EX_cpd01048_e0': 1000.0, 'EX_cpd11694_e0': 0.008107768461737462, 'EX_cpd00001_e0': 281.67614707590116, 'EX_cpd00448_e0': 230.58264976402205, 'EX_cpd00139_e0': 557.35083693909, 'EX_cpd00311_e0': 2.121478695698225, 'EX_cpd00207_e0': 37.13844421583464, 'EX_cpd00025_e0': 1000.0000000000001, 'EX_cpd00084_e0': 7.471795103598935, 'EX_cpd00438_e0': 2.1214786956982254, 'EX_cpd00047_e0': 6.970056343859294e-10, 'EX_cpd00063_e0': 0.8440186968668701, 'EX_cpd00099_e0': 0.8440186968668701, 'EX_cpd00149_e0': 0.01621553692347493, 'EX_cpd00058_e0': 0.11496815678743728, 'EX_cpd10515_e0': 0.5444366522056707, 'EX_cpd10516_e0': 1.8105457751905936, 'EX_cpd00393_e0': 0.10848194201804733, 'EX_cpd00067_e0': 1000.0, 'EX_cpd00205_e0': 31.65159298703842, 'EX_cpd00254_e0': 1.40669782811145, 'EX_cpd20863_e0': 0.11204936014121175, 'EX_cpd00007_e0': 1000.0, 'EX_cpd00119_e0': 15.362275370561683, 'EX_cpd00322_e0': 23.55541863420124, 'EX_cpd00107_e0': 36.52801032835039, 'EX_cpd00106_e0': 641.3562828716994, 'EX_cpd02090_e0': 533.6884942143914, 'EX_cpd00609_e0': 106.42562592265838, 'EX_cpd00023_e0': 50.788683198015526, 'EX_cpd00039_e0': 27.822699330982903, 'EX_cpd01355_e0': 380.37451552852764, 'EX_cpd00060_e0': 12.470477593313777, 'EX_cpd11576_e0': 12.478585361775512, 'EX_cpd02027_e0': 0.008107768461737462, 'EX_cpd00644_e0': 0.09340149267922289, 'EX_cpd00220_e0': 0.07232129467869819, 'EX_cpd00048_e0': 0.7034299917403424, 'EX_cpd00305_e0': 0.03616064733934909, 'EX_cpd00034_e0': 0.05529498090904952, 'EX_cpd00355_e0': 0.36938993111710217, 'EX_cpd00209_e0': 1000.0000000000001, 'EX_cpd00066_e0': 30.041714481275832, 'EX_cpd00129_e0': 303.80189282245016, 'EX_cpd00118_e0': 760.0300007330167, 'EX_cpd00020_e0': 201.31352808983436, 'EX_cpd00268_e0': 7.471795103598629, 'EX_cpd03396_e0': 557.342729170628, 'EX_cpd00550_e0': 27.13345793405045, 'EX_cpd00161_e0': 44.123773211729166, 'EX_cpd00151_e0': 2.121478695698225, 'EX_cpd00065_e0': 9.217397653410853, 'EX_cpd00069_e0': 22.360576795994987, 'EX_cpd00286_e0': 16.215536923474925, 'EX_cpd00249_e0': 1000.0, 'EX_cpd00012_e0': 35.828836915052214, 'EX_tag160[e]': 110.06193669966372, 'EX_cpd05178_e0': 36.52801032835041, 'EX_cpd00281_e0': 347.4386761783714, 'EX_cpd00136_e0': 0.008107768461737464, 'EX_cpd00489_e0': 239.96999926698325, 'EX_cpd19151_e0': 112.92905307472077, 'EX_cpd27569_e0': 16.21553692347493, 'EX_cpd00331_e0': 55.47464905816191, 'EX_cpd00182_e0': 31.00637677284897, 'EX_cpd00024_e0': 1000.0, 'EX_alathr[e]': 20.568354577527927}}}\n",
      "\n",
      "Examining the 66 model pairs\n",
      "The model M_Leaf154 possesses an objective value of 0 in complete media, which is incompatible with minimal media computations.\n",
      "The model M_Leaf145 possesses an objective value of 0 in complete media, which is incompatible with minimal media computations.\n",
      "The ID ALATA_L2 is changed with {'2', 'c', '1'} to create the final ID ALATA_c1\n",
      "The ID CYTB_B2 is changed with {'2', 'c', '1'} to create the final ID CYTB_c1\n",
      "The ID HMR_9638 is changed with {'6', '8', '1', '3', 'c', '9'} to create the final ID HMR_c1\n",
      "The ID METSR_S1 is changed with {'c'} to create the final ID METSR_c1\n",
      "The ID RBK_L1 is changed with {'L', 'c'} to create the final ID RBK_c1\n",
      "The ID SBTD_D2 is changed with {'2', 'c', '1'} to create the final ID SBTD_c1\n",
      "The ID HMR_3951 is changed with {'2', '3', 'c', '1', '5', '9'} to create the final ID HMR_c2\n",
      "The ID METSR_R1 is changed with {'2', 'c', '1'} to create the final ID METSR_c2\n",
      "The ID RBK_L1 is changed with {'2', 'L', 'c', '1'} to create the final ID RBK_c2\n",
      "The ID SBTD_D2 is changed with {'c'} to create the final ID SBTD_c2\n",
      "cpd11416_c0 bio1: 0.5 cpd11416_c1 + 0.5 cpd11416_c2 --> cpd11416_c0;\tcpd11416_c0 SK_cpd11416_c0: cpd11416_c0 <=> ;\tM_Leaf154 300 0.5\n",
      "M_Leaf145 300 0.5\n",
      "MainProcess~~0\t['M_Leaf154', 'M_Leaf145']\n",
      "The M_Leaf154 model input does not yield an operational model, and will therefore be gapfilled.\n",
      "The M_Leaf145 model input does not yield an operational model, and will therefore be gapfilled.\n"
     ]
    },
    {
     "name": "stderr",
     "output_type": "stream",
     "text": [
      "/Library/Python/3.9/site-packages/sigfig/sigfig.py:586: UserWarning: warning: 5 significant figures requested from number with only 1 significant figures\n",
      "  warn(\"warning: %d significant figures requested from number with only %d significant figures\" % (given['sigfigs'], len(num.map)))\n"
     ]
    },
    {
     "name": "stdout",
     "output_type": "stream",
     "text": [
      "Unexpected exception formatting exception. Falling back to standard exception\n"
     ]
    },
    {
     "name": "stderr",
     "output_type": "stream",
     "text": [
      "Traceback (most recent call last):\n",
      "  File \"/Users/afreiburger/Library/Python/3.9/lib/python/site-packages/IPython/core/interactiveshell.py\", line 3378, in run_code\n",
      "    exec(code_obj, self.user_global_ns, self.user_ns)\n",
      "  File \"/var/folders/rp/9cl8flv169g9fq27kxq24xjh0000gs/T/ipykernel_80825/3394391210.py\", line 3, in <module>\n",
      "    report_table, mets = CommScores.report_generation(models)\n",
      "  File \"/Users/afreiburger/Documents/CommScores/commscores/commscores.py\", line 497, in report_generation\n",
      "    else:  series, mets = CommScores.calculate_scores(pairs, models_media, environments, annotated_genomes, lazy_load,\n",
      "  File \"/Users/afreiburger/Documents/CommScores/commscores/commscores.py\", line 369, in calculate_scores\n",
      "    mro_values = CommScores.mro(grouping, models_media, raw_content=True, environment=environ)\n",
      "  File \"/Users/afreiburger/Documents/CommScores/commscores/commscores.py\", line 516, in mro\n",
      "    intersection = set(mem_media[model1.id][\"media\"].keys()) & set(mem_media[model2.id][\"media\"].keys())\n",
      "AttributeError: 'NoneType' object has no attribute 'keys'\n",
      "\n",
      "During handling of the above exception, another exception occurred:\n",
      "\n",
      "Traceback (most recent call last):\n",
      "  File \"/Users/afreiburger/Library/Python/3.9/lib/python/site-packages/IPython/core/interactiveshell.py\", line 1997, in showtraceback\n",
      "    stb = self.InteractiveTB.structured_traceback(\n",
      "  File \"/Users/afreiburger/Library/Python/3.9/lib/python/site-packages/IPython/core/ultratb.py\", line 1112, in structured_traceback\n",
      "    return FormattedTB.structured_traceback(\n",
      "  File \"/Users/afreiburger/Library/Python/3.9/lib/python/site-packages/IPython/core/ultratb.py\", line 1006, in structured_traceback\n",
      "    return VerboseTB.structured_traceback(\n",
      "  File \"/Users/afreiburger/Library/Python/3.9/lib/python/site-packages/IPython/core/ultratb.py\", line 859, in structured_traceback\n",
      "    formatted_exception = self.format_exception_as_a_whole(etype, evalue, etb, number_of_lines_of_context,\n",
      "  File \"/Users/afreiburger/Library/Python/3.9/lib/python/site-packages/IPython/core/ultratb.py\", line 812, in format_exception_as_a_whole\n",
      "    frames.append(self.format_record(r))\n",
      "  File \"/Users/afreiburger/Library/Python/3.9/lib/python/site-packages/IPython/core/ultratb.py\", line 730, in format_record\n",
      "    result += ''.join(_format_traceback_lines(frame_info.lines, Colors, self.has_colors, lvals))\n",
      "  File \"/Users/afreiburger/Library/Python/3.9/lib/python/site-packages/stack_data/utils.py\", line 145, in cached_property_wrapper\n",
      "    value = obj.__dict__[self.func.__name__] = self.func(obj)\n",
      "  File \"/Users/afreiburger/Library/Python/3.9/lib/python/site-packages/stack_data/core.py\", line 734, in lines\n",
      "    pieces = self.included_pieces\n",
      "  File \"/Users/afreiburger/Library/Python/3.9/lib/python/site-packages/stack_data/utils.py\", line 145, in cached_property_wrapper\n",
      "    value = obj.__dict__[self.func.__name__] = self.func(obj)\n",
      "  File \"/Users/afreiburger/Library/Python/3.9/lib/python/site-packages/stack_data/core.py\", line 677, in included_pieces\n",
      "    scope_pieces = self.scope_pieces\n",
      "  File \"/Users/afreiburger/Library/Python/3.9/lib/python/site-packages/stack_data/utils.py\", line 145, in cached_property_wrapper\n",
      "    value = obj.__dict__[self.func.__name__] = self.func(obj)\n",
      "  File \"/Users/afreiburger/Library/Python/3.9/lib/python/site-packages/stack_data/core.py\", line 617, in scope_pieces\n",
      "    for piece in self.source.pieces\n",
      "  File \"/Users/afreiburger/Library/Python/3.9/lib/python/site-packages/stack_data/utils.py\", line 145, in cached_property_wrapper\n",
      "    value = obj.__dict__[self.func.__name__] = self.func(obj)\n",
      "  File \"/Users/afreiburger/Library/Python/3.9/lib/python/site-packages/stack_data/core.py\", line 106, in pieces\n",
      "    return list(self._clean_pieces())\n",
      "  File \"/Users/afreiburger/Library/Python/3.9/lib/python/site-packages/stack_data/core.py\", line 130, in _clean_pieces\n",
      "    raise AssertionError(\"Pieces mismatches: %s\" % mismatches)\n",
      "AssertionError: Pieces mismatches: [{785, 786}]\n"
     ]
    }
   ],
   "source": [
    "%run ../commscores/commscores.py\n",
    "\n",
    "report_table, mets = CommScores.report_generation(models)"
   ]
  },
  {
   "cell_type": "code",
   "execution_count": 8,
   "metadata": {},
   "outputs": [
    {
     "ename": "NameError",
     "evalue": "name 'report_table' is not defined",
     "output_type": "error",
     "traceback": [
      "\u001b[0;31m---------------------------------------------------------------------------\u001b[0m",
      "\u001b[0;31mNameError\u001b[0m                                 Traceback (most recent call last)",
      "Cell \u001b[0;32mIn [8], line 1\u001b[0m\n\u001b[0;32m----> 1\u001b[0m report_table\n",
      "\u001b[0;31mNameError\u001b[0m: name 'report_table' is not defined"
     ]
    }
   ],
   "source": [
    "report_table"
   ]
  }
 ],
 "metadata": {
  "kernelspec": {
   "display_name": "Python 3",
   "language": "python",
   "name": "python3"
  },
  "language_info": {
   "codemirror_mode": {
    "name": "ipython",
    "version": 3
   },
   "file_extension": ".py",
   "mimetype": "text/x-python",
   "name": "python",
   "nbconvert_exporter": "python",
   "pygments_lexer": "ipython3",
   "version": "3.9.12"
  },
  "vscode": {
   "interpreter": {
    "hash": "31f2aee4e71d21fbe5cf8b01ff0e069b9275f58929596ceb00d14d90e3e16cd6"
   }
  }
 },
 "nbformat": 4,
 "nbformat_minor": 2
}
