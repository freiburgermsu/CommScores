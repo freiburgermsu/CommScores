{
 "cells": [
  {
   "cell_type": "code",
   "execution_count": 5,
   "metadata": {},
   "outputs": [],
   "source": [
    "from glob import glob\n",
    "from cobra.io import read_sbml_model\n",
    "\n",
    "models = [read_sbml_model(mdl) for mdl in glob(\"*.xml\")]"
   ]
  },
  {
   "cell_type": "code",
   "execution_count": 6,
   "metadata": {},
   "outputs": [
    {
     "name": "stdout",
     "output_type": "stream",
     "text": [
      "['M_Leaf202', 'M_Leaf164', 'M_Leaf15', 'M_Leaf304', 'M_Leaf257', 'M_Leaf34', 'M_Leaf8', 'M_Leaf154', 'M_Leaf145', 'M_Leaf179', 'M_Leaf233']\n"
     ]
    }
   ],
   "source": [
    "print([mdl.id for mdl in models])\n",
    "# print(models[-3].name, models[-3].reactions)"
   ]
  },
  {
   "cell_type": "code",
   "execution_count": 2,
   "metadata": {},
   "outputs": [
    {
     "name": "stdout",
     "output_type": "stream",
     "text": [
      "{<Metabolite 12dgr120[p] at 0x1d6d14731f0>: -2.0, <Metabolite 12dgr120[c] at 0x1d6d1473130>: 2.0, <Metabolite cpd11416 at 0x1d70339d2b0>: 1} 2.0 12dgr120[p] --> 2.0 12dgr120[c] + cpd11416\n"
     ]
    }
   ],
   "source": [
    "# testing reaction editing logic\n",
    "\n",
    "# from cobra import Metabolite\n",
    "# for rxn in models[0].reactions:\n",
    "#     rxn_stoich = rxn.metabolites\n",
    "#     rxn_stoich.update({Metabolite(\"cpd11416\"): 1})\n",
    "#     rxn.add_metabolites(rxn_stoich)\n",
    "#     print(rxn.metabolites, rxn.reaction)\n",
    "#     break"
   ]
  },
  {
   "cell_type": "code",
   "execution_count": 11,
   "metadata": {},
   "outputs": [
    {
     "ename": "KeyError",
     "evalue": "'modelseedpy'",
     "output_type": "error",
     "traceback": [
      "\u001b[0;31m---------------------------------------------------------------------------\u001b[0m",
      "\u001b[0;31mKeyError\u001b[0m                                  Traceback (most recent call last)",
      "Cell \u001b[0;32mIn [11], line 3\u001b[0m\n\u001b[1;32m      1\u001b[0m get_ipython()\u001b[39m.\u001b[39mrun_line_magic(\u001b[39m'\u001b[39m\u001b[39mrun\u001b[39m\u001b[39m'\u001b[39m, \u001b[39m'\u001b[39m\u001b[39m../../ModelSEEDpy/modelseedpy/core/msminimalmedia.py\u001b[39m\u001b[39m'\u001b[39m)\n\u001b[0;32m----> 3\u001b[0m MSMinimalMedia\u001b[39m.\u001b[39mminimize_flux(models[\u001b[39m0\u001b[39m])\n",
      "File \u001b[0;32m~/Documents/ModelSEEDpy/modelseedpy/core/msminimalmedia.py:90\u001b[0m, in \u001b[0;36mMSMinimalMedia.minimize_flux\u001b[0;34m(org_model, min_growth, environment, interacting, printing)\u001b[0m\n\u001b[1;32m     87\u001b[0m \u001b[39mif\u001b[39;00m org_model\u001b[39m.\u001b[39mslim_optimize() \u001b[39m==\u001b[39m \u001b[39m0\u001b[39m:\n\u001b[1;32m     88\u001b[0m     \u001b[39mraise\u001b[39;00m ObjectiveError(\u001b[39mf\u001b[39m\u001b[39m\"\u001b[39m\u001b[39mThe model \u001b[39m\u001b[39m{\u001b[39;00morg_model\u001b[39m.\u001b[39mid\u001b[39m}\u001b[39;00m\u001b[39m possesses an objective value of 0 in complete media, \u001b[39m\u001b[39m\"\u001b[39m\n\u001b[1;32m     89\u001b[0m                          \u001b[39m\"\u001b[39m\u001b[39mwhich is incompatible with minimal media computations.\u001b[39m\u001b[39m\"\u001b[39m)\n\u001b[0;32m---> 90\u001b[0m model_util \u001b[39m=\u001b[39m MSModelUtil(org_model, \u001b[39mTrue\u001b[39;49;00m)\n\u001b[1;32m     91\u001b[0m model_util\u001b[39m.\u001b[39madd_medium(environment \u001b[39mor\u001b[39;00m model_util\u001b[39m.\u001b[39mmodel\u001b[39m.\u001b[39mmedium)\n\u001b[1;32m     92\u001b[0m \u001b[39m# define the MILP\u001b[39;00m\n",
      "File \u001b[0;32m~/Library/Python/3.9/lib/python/site-packages/modelseedpy/core/msmodelutl.py:118\u001b[0m, in \u001b[0;36mMSModelUtil.__init__\u001b[0;34m(self, model, copy, environment)\u001b[0m\n\u001b[1;32m    114\u001b[0m     \u001b[39mif\u001b[39;00m \u001b[39mnot\u001b[39;00m isclose(org_obj_val, new_obj_val, rel_tol\u001b[39m=\u001b[39m\u001b[39m1e-2\u001b[39m) \u001b[39mand\u001b[39;00m org_obj_val \u001b[39m>\u001b[39m \u001b[39m1e-2\u001b[39m:\n\u001b[1;32m    115\u001b[0m         \u001b[39mraise\u001b[39;00m ModelError(\u001b[39mf\u001b[39m\u001b[39m\"\u001b[39m\u001b[39mThe \u001b[39m\u001b[39m{\u001b[39;00mmodel\u001b[39m.\u001b[39mid\u001b[39m}\u001b[39;00m\u001b[39m objective value is corrupted by being copied,\u001b[39m\u001b[39m\"\u001b[39m\n\u001b[1;32m    116\u001b[0m                          \u001b[39mf\u001b[39m\u001b[39m\"\u001b[39m\u001b[39m where the original objective value is \u001b[39m\u001b[39m{\u001b[39;00morg_obj_val\u001b[39m}\u001b[39;00m\u001b[39m\"\u001b[39m\n\u001b[1;32m    117\u001b[0m                          \u001b[39mf\u001b[39m\u001b[39m\"\u001b[39m\u001b[39m and the new objective value is \u001b[39m\u001b[39m{\u001b[39;00mnew_obj_val\u001b[39m}\u001b[39;00m\u001b[39m.\u001b[39m\u001b[39m\"\u001b[39m)\n\u001b[0;32m--> 118\u001b[0m \u001b[39mself\u001b[39m\u001b[39m.\u001b[39mpkgmgr \u001b[39m=\u001b[39m MSPackageManager\u001b[39m.\u001b[39;49mget_pkg_mgr(\u001b[39mself\u001b[39;49m\u001b[39m.\u001b[39;49mmodel)\n\u001b[1;32m    119\u001b[0m \u001b[39mself\u001b[39m\u001b[39m.\u001b[39mwsid \u001b[39m=\u001b[39m \u001b[39mNone\u001b[39;00m\n\u001b[1;32m    120\u001b[0m \u001b[39mself\u001b[39m\u001b[39m.\u001b[39matputl \u001b[39m=\u001b[39m \u001b[39mNone\u001b[39;00m\n",
      "File \u001b[0;32m~/Library/Python/3.9/lib/python/site-packages/modelseedpy/fbapkg/mspackagemanager.py:22\u001b[0m, in \u001b[0;36mMSPackageManager.get_pkg_mgr\u001b[0;34m(model, create_if_missing)\u001b[0m\n\u001b[1;32m     20\u001b[0m     \u001b[39mreturn\u001b[39;00m MSPackageManager\u001b[39m.\u001b[39mpkgmgrs[model]\n\u001b[1;32m     21\u001b[0m \u001b[39melif\u001b[39;00m create_if_missing:\n\u001b[0;32m---> 22\u001b[0m     MSPackageManager\u001b[39m.\u001b[39mpkgmgrs[model] \u001b[39m=\u001b[39m MSPackageManager(model)\n\u001b[1;32m     23\u001b[0m     \u001b[39mreturn\u001b[39;00m MSPackageManager\u001b[39m.\u001b[39mpkgmgrs[model]\n\u001b[1;32m     24\u001b[0m \u001b[39melse\u001b[39;00m:\n",
      "File \u001b[0;32m~/Library/Python/3.9/lib/python/site-packages/modelseedpy/fbapkg/mspackagemanager.py:31\u001b[0m, in \u001b[0;36mMSPackageManager.__init__\u001b[0;34m(self, model)\u001b[0m\n\u001b[1;32m     29\u001b[0m \u001b[39mself\u001b[39m\u001b[39m.\u001b[39mpackages \u001b[39m=\u001b[39m {}\n\u001b[1;32m     30\u001b[0m \u001b[39mself\u001b[39m\u001b[39m.\u001b[39mavailable_packages \u001b[39m=\u001b[39m {}\n\u001b[0;32m---> 31\u001b[0m \u001b[39mfor\u001b[39;00m name, obj \u001b[39min\u001b[39;00m inspect\u001b[39m.\u001b[39mgetmembers(sys\u001b[39m.\u001b[39;49mmodules[\u001b[39m\"\u001b[39;49m\u001b[39mmodelseedpy\u001b[39;49m\u001b[39m\"\u001b[39;49m]):\n\u001b[1;32m     32\u001b[0m     \u001b[39mif\u001b[39;00m name \u001b[39m!=\u001b[39m \u001b[39m\"\u001b[39m\u001b[39mBaseFBAPkg\u001b[39m\u001b[39m\"\u001b[39m \u001b[39mand\u001b[39;00m name[\u001b[39m-\u001b[39m\u001b[39m3\u001b[39m:] \u001b[39m==\u001b[39m \u001b[39m\"\u001b[39m\u001b[39mPkg\u001b[39m\u001b[39m\"\u001b[39m:\n\u001b[1;32m     33\u001b[0m         \u001b[39mself\u001b[39m\u001b[39m.\u001b[39mavailable_packages[name] \u001b[39m=\u001b[39m obj\n",
      "\u001b[0;31mKeyError\u001b[0m: 'modelseedpy'"
     ]
    }
   ],
   "source": [
    "%run ../../ModelSEEDpy/modelseedpy/core/msminimalmedia.py\n",
    "\n",
    "MSMinimalMedia.minimize_flux(models[0])"
   ]
  },
  {
   "cell_type": "code",
   "execution_count": null,
   "metadata": {},
   "outputs": [],
   "source": [
    "# This code can be commented\n",
    "\n",
    "# ~/Library/Python/3.9/lib/python/site-packages/modelseedpy/fbapkg/mspackagemanager.py:31\n",
    "# for name, obj in inspect.getmembers(sys.modules[\"modelseedpy\"]):\n",
    "#      32     if name != \"BaseFBAPkg\" and name[-3:] == \"Pkg\":\n",
    "#      33         self.available_packages[name] = obj\n"
   ]
  },
  {
   "cell_type": "code",
   "execution_count": null,
   "metadata": {},
   "outputs": [],
   "source": []
  },
  {
   "cell_type": "code",
   "execution_count": null,
   "metadata": {},
   "outputs": [],
   "source": []
  },
  {
   "cell_type": "code",
   "execution_count": null,
   "metadata": {},
   "outputs": [],
   "source": []
  },
  {
   "cell_type": "code",
   "execution_count": null,
   "metadata": {},
   "outputs": [],
   "source": []
  },
  {
   "cell_type": "code",
   "execution_count": null,
   "metadata": {},
   "outputs": [],
   "source": []
  },
  {
   "cell_type": "code",
   "execution_count": null,
   "metadata": {},
   "outputs": [],
   "source": []
  },
  {
   "cell_type": "code",
   "execution_count": 6,
   "metadata": {},
   "outputs": [
    {
     "name": "stdout",
     "output_type": "stream",
     "text": [
      "['M_Leaf145', 'M_Leaf15']\n"
     ]
    }
   ],
   "source": [
    "print([mdl.id for mdl in models[:2]])"
   ]
  },
  {
   "cell_type": "code",
   "execution_count": 6,
   "metadata": {},
   "outputs": [
    {
     "name": "stdout",
     "output_type": "stream",
     "text": [
      "modelseedpy 0.2.2\n",
      "modelseedpy_freiburgermsu 0.2.2\n",
      "Unexpected exception formatting exception. Falling back to standard exception\n"
     ]
    },
    {
     "name": "stderr",
     "output_type": "stream",
     "text": [
      "Traceback (most recent call last):\n",
      "  File \"/Users/afreiburger/Library/Python/3.9/lib/python/site-packages/IPython/core/interactiveshell.py\", line 2742, in safe_execfile\n",
      "    py3compat.execfile(\n",
      "  File \"/Users/afreiburger/Library/Python/3.9/lib/python/site-packages/IPython/utils/py3compat.py\", line 55, in execfile\n",
      "    exec(compiler(f.read(), fname, \"exec\"), glob, loc)\n",
      "  File \"/Users/afreiburger/Documents/ModelSEEDpy/modelseedpy/community/mscommunity.py\", line 5, in <module>\n",
      "    from modelseedpy.community.commhelper import build_from_species_models\n",
      "  File \"/Users/afreiburger/Library/Python/3.9/lib/python/site-packages/modelseedpy/__init__.py\", line 42, in <module>\n",
      "    from modelseedpy.community import (\n",
      "  File \"/Users/afreiburger/Library/Python/3.9/lib/python/site-packages/modelseedpy/community/__init__.py\", line 7, in <module>\n",
      "    from modelseedpy.community.mscommunity import *\n",
      "  File \"/Users/afreiburger/Library/Python/3.9/lib/python/site-packages/modelseedpy/community/mscommunity.py\", line 5, in <module>\n",
      "    from modelseedpy.community.commhelper import build_from_species_models\n",
      "  File \"/Users/afreiburger/Library/Python/3.9/lib/python/site-packages/modelseedpy/community/commhelper.py\", line 7, in <module>\n",
      "    from commscores import GEMCompatibility\n",
      "  File \"/Users/afreiburger/Library/Python/3.9/lib/python/site-packages/commscores/__init__.py\", line 1, in <module>\n",
      "    from commscores.commscores import CommScores\n",
      "  File \"/Users/afreiburger/Library/Python/3.9/lib/python/site-packages/commscores/commscores.py\", line 2, in <module>\n",
      "    from modelseedpy_freiburgermsu.community.commhelper import build_from_species_models\n",
      "  File \"/Users/afreiburger/Library/Python/3.9/lib/python/site-packages/modelseedpy_freiburgermsu/__init__.py\", line 35, in <module>\n",
      "    from modelseedpy_freiburgermsu.core import (\n",
      "  File \"/Users/afreiburger/Library/Python/3.9/lib/python/site-packages/modelseedpy_freiburgermsu/core/__init__.py\", line 17, in <module>\n",
      "    from modelseedpy_freiburgermsu.core.report import *\n",
      "  File \"/Users/afreiburger/Library/Python/3.9/lib/python/site-packages/modelseedpy_freiburgermsu/core/report.py\", line 206, in <module>\n",
      "    sugars, aminoacids = load(os.path.join(categories_dir, \"sugars.npy\")), load(os.path.join(categories_dir, \"aminoAcids.npy\"))\n",
      "  File \"/Library/Python/3.9/site-packages/numpy/lib/npyio.py\", line 390, in load\n",
      "    fid = stack.enter_context(open(os_fspath(file), \"rb\"))\n",
      "FileNotFoundError: [Errno 2] No such file or directory: '/Users/afreiburger/Library/Python/3.9/lib/python/site-packages/modelseedpy_freiburgermsu/core/../data/categories/sugars.npy'\n",
      "\n",
      "During handling of the above exception, another exception occurred:\n",
      "\n",
      "Traceback (most recent call last):\n",
      "  File \"/Users/afreiburger/Library/Python/3.9/lib/python/site-packages/IPython/core/interactiveshell.py\", line 1997, in showtraceback\n",
      "    stb = self.InteractiveTB.structured_traceback(\n",
      "  File \"/Users/afreiburger/Library/Python/3.9/lib/python/site-packages/IPython/core/ultratb.py\", line 1112, in structured_traceback\n",
      "    return FormattedTB.structured_traceback(\n",
      "  File \"/Users/afreiburger/Library/Python/3.9/lib/python/site-packages/IPython/core/ultratb.py\", line 1006, in structured_traceback\n",
      "    return VerboseTB.structured_traceback(\n",
      "  File \"/Users/afreiburger/Library/Python/3.9/lib/python/site-packages/IPython/core/ultratb.py\", line 859, in structured_traceback\n",
      "    formatted_exception = self.format_exception_as_a_whole(etype, evalue, etb, number_of_lines_of_context,\n",
      "  File \"/Users/afreiburger/Library/Python/3.9/lib/python/site-packages/IPython/core/ultratb.py\", line 812, in format_exception_as_a_whole\n",
      "    frames.append(self.format_record(r))\n",
      "  File \"/Users/afreiburger/Library/Python/3.9/lib/python/site-packages/IPython/core/ultratb.py\", line 730, in format_record\n",
      "    result += ''.join(_format_traceback_lines(frame_info.lines, Colors, self.has_colors, lvals))\n",
      "  File \"/Users/afreiburger/Library/Python/3.9/lib/python/site-packages/stack_data/utils.py\", line 145, in cached_property_wrapper\n",
      "    value = obj.__dict__[self.func.__name__] = self.func(obj)\n",
      "  File \"/Users/afreiburger/Library/Python/3.9/lib/python/site-packages/stack_data/core.py\", line 734, in lines\n",
      "    pieces = self.included_pieces\n",
      "  File \"/Users/afreiburger/Library/Python/3.9/lib/python/site-packages/stack_data/utils.py\", line 145, in cached_property_wrapper\n",
      "    value = obj.__dict__[self.func.__name__] = self.func(obj)\n",
      "  File \"/Users/afreiburger/Library/Python/3.9/lib/python/site-packages/stack_data/core.py\", line 677, in included_pieces\n",
      "    scope_pieces = self.scope_pieces\n",
      "  File \"/Users/afreiburger/Library/Python/3.9/lib/python/site-packages/stack_data/utils.py\", line 145, in cached_property_wrapper\n",
      "    value = obj.__dict__[self.func.__name__] = self.func(obj)\n",
      "  File \"/Users/afreiburger/Library/Python/3.9/lib/python/site-packages/stack_data/core.py\", line 617, in scope_pieces\n",
      "    for piece in self.source.pieces\n",
      "  File \"/Users/afreiburger/Library/Python/3.9/lib/python/site-packages/stack_data/utils.py\", line 145, in cached_property_wrapper\n",
      "    value = obj.__dict__[self.func.__name__] = self.func(obj)\n",
      "  File \"/Users/afreiburger/Library/Python/3.9/lib/python/site-packages/stack_data/core.py\", line 106, in pieces\n",
      "    return list(self._clean_pieces())\n",
      "  File \"/Users/afreiburger/Library/Python/3.9/lib/python/site-packages/stack_data/core.py\", line 130, in _clean_pieces\n",
      "    raise AssertionError(\"Pieces mismatches: %s\" % mismatches)\n",
      "AssertionError: Pieces mismatches: [{785, 786}]\n"
     ]
    },
    {
     "ename": "NameError",
     "evalue": "name 'MSCommunity' is not defined",
     "output_type": "error",
     "traceback": [
      "\u001b[0;31m---------------------------------------------------------------------------\u001b[0m",
      "\u001b[0;31mNameError\u001b[0m                                 Traceback (most recent call last)",
      "Cell \u001b[0;32mIn [6], line 6\u001b[0m\n\u001b[1;32m      2\u001b[0m \u001b[39mfrom\u001b[39;00m \u001b[39mos\u001b[39;00m \u001b[39mimport\u001b[39;00m system\n\u001b[1;32m      4\u001b[0m \u001b[39m# print(system(r\"ls ../../ModelSEEDpy/modelseedpy/community\"))\u001b[39;00m\n\u001b[0;32m----> 6\u001b[0m MSCommunity(member_models\u001b[39m=\u001b[39mmodels[:\u001b[39m2\u001b[39m])\n",
      "\u001b[0;31mNameError\u001b[0m: name 'MSCommunity' is not defined"
     ]
    }
   ],
   "source": [
    "%run ../../ModelSEEDpy/modelseedpy/community/mscommunity.py\n",
    "from os import system\n",
    "\n",
    "# print(system(r\"ls ../../ModelSEEDpy/modelseedpy/community\"))\n",
    "\n",
    "MSCommunity(member_models=models[:2])"
   ]
  },
  {
   "cell_type": "code",
   "execution_count": null,
   "metadata": {},
   "outputs": [],
   "source": []
  },
  {
   "cell_type": "code",
   "execution_count": null,
   "metadata": {},
   "outputs": [],
   "source": []
  },
  {
   "cell_type": "code",
   "execution_count": 12,
   "metadata": {},
   "outputs": [
    {
     "name": "stdout",
     "output_type": "stream",
     "text": [
      "2\n"
     ]
    }
   ],
   "source": [
    "x = \"test2\"\n",
    "t = \"test\"\n",
    "\n",
    "new_string = \"\"\n",
    "for index, let in enumerate(x):\n",
    "    if index >= len(t) or index < len(t) and let != t[index]: new_string += let\n",
    "print(new_string)"
   ]
  },
  {
   "cell_type": "code",
   "execution_count": 14,
   "metadata": {},
   "outputs": [
    {
     "data": {
      "text/plain": [
       "0.0"
      ]
     },
     "execution_count": 14,
     "metadata": {},
     "output_type": "execute_result"
    }
   ],
   "source": [
    "models[0].slim_optimize()"
   ]
  },
  {
   "cell_type": "code",
   "execution_count": 21,
   "metadata": {},
   "outputs": [
    {
     "data": {
      "text/plain": [
       "'model_index9'"
      ]
     },
     "execution_count": 21,
     "metadata": {},
     "output_type": "execute_result"
    }
   ],
   "source": [
    "models[-3].id"
   ]
  },
  {
   "cell_type": "code",
   "execution_count": 22,
   "metadata": {},
   "outputs": [
    {
     "data": {
      "text/plain": [
       "[<Model M_Leaf202 at 0x149d18f10>,\n",
       " <Model M_Leaf164 at 0x14c1ddb20>,\n",
       " <Model M_Leaf15 at 0x14cffc490>,\n",
       " <Model M_Leaf304 at 0x14ab95ca0>,\n",
       " <Model M_Leaf257 at 0x14f579fd0>,\n",
       " <Model M_Leaf34 at 0x1507fcbb0>,\n",
       " <Model M_Leaf8 at 0x1519b0310>,\n",
       " <Model M_Leaf154 at 0x152929820>,\n",
       " <Model M_Leaf145 at 0x15397c250>,\n",
       " <Model model_index9 at 0x154ebbf70>,\n",
       " <Model M_Leaf179 at 0x158275100>,\n",
       " <Model M_Leaf233 at 0x158b958b0>]"
      ]
     },
     "execution_count": 22,
     "metadata": {},
     "output_type": "execute_result"
    }
   ],
   "source": [
    "models"
   ]
  },
  {
   "cell_type": "code",
   "execution_count": 18,
   "metadata": {},
   "outputs": [
    {
     "data": {
      "text/plain": [
       "81.0776846173746"
      ]
     },
     "execution_count": 18,
     "metadata": {},
     "output_type": "execute_result"
    }
   ],
   "source": [
    "models[-3].slim_optimize()"
   ]
  },
  {
   "cell_type": "code",
   "execution_count": 14,
   "metadata": {},
   "outputs": [
    {
     "name": "stdout",
     "output_type": "stream",
     "text": [
      "The minimal flux media consists of 42 compounds and a 3471.6158974804875 total influx, with a growth value of 53.52365457207543\n",
      "The minimal flux media consists of 40 compounds and a 3669.5884986573365 total influx, with a growth value of 31.702978713211518\n",
      "The minimal flux media consists of 70 compounds and a 14198.180005321721 total influx, with a growth value of 81.07768461737473\n",
      "The minimal flux media consists of 49 compounds and a 8606.736987712477 total influx, with a growth value of 110.1674222184561\n",
      "The minimal flux media consists of 45 compounds and a 5443.874802645919 total influx, with a growth value of 63.47927165628829\n",
      "The minimal flux media consists of 45 compounds and a 8487.60426920344 total influx, with a growth value of 53.14809875533757\n",
      "The minimal flux media consists of 34 compounds and a 1846.4996715018688 total influx, with a growth value of 54.8058911436897\n",
      "The minimal flux media consists of 45 compounds and a 8487.604269202971 total influx, with a growth value of 53.14809875533752\n",
      "The minimal flux media consists of 42 compounds and a 5443.142649745149 total influx, with a growth value of 72.32849370652139\n",
      "The minimal flux media consists of 32 compounds and a 2915.2852292869447 total influx, with a growth value of 83.10898054547799\n",
      "The minimal flux media consists of 41 compounds and a 4442.027200608122 total influx, with a growth value of 44.23546443719564\n",
      "The minimal flux media consists of 48 compounds and a 4865.732895521032 total influx, with a growth value of 104.3694570416547\n",
      "The minimal media of all members:\n",
      "{'M_Leaf233': {'media': {'EX_cpd00281_e0': 65.05046867804862, 'EX_abg4[e]': 0.03580732490871239, 'EX_cpd00024_e0': 923.2846930918224, 'EX_alatrp[e]': 3.042445096840479, 'EX_cpd00132_e0': 12.902144552871583, 'EX_cpd00063_e0': 0.2785906220476514, 'EX_cpd00137_e0': 0.2785906220476514, 'EX_cpd00099_e0': 0.27859062204765134, 'EX_cpd00149_e0': 0.00535236545720752, 'EX_cpd00058_e0': 0.037948271091601316, 'EX_cpd00084_e0': 4.93252591074465, 'EX_cpd00438_e0': 20.413921853845512, 'EX_cpd00863_e0': 52.779301107941244, 'EX_cpd27103_e0': 10.704730914415038, 'EX_cpd15605_e0': 9.91605986429551, 'EX_cpd15606_e0': 7.380697870870879, 'EX_cpd00540_e0': 25.792701234528316, 'EX_cpd00080_e0': 1000.0, 'EX_cpd00311_e0': 10.934722058110092, 'EX_cpd00207_e0': 2.0837293961456687, 'EX_hishis[e]': 2.5353619934246288, 'EX_istfrnA[e]': 0.7773240353502491, 'EX_cpd00205_e0': 10.447442706887072, 'EX_cpd00107_e0': 2.9766779063275584, 'EX_lysglugly[e]': 18.367230826607894, 'EX_cpd03718_e0': 2.377566613501858, 'EX_cpd01914_e0': 8.237772151533553, 'EX_cpd00254_e0': 0.46431770341275236, 'EX_cpd20863_e0': 0.03698484530930396, 'EX_cpd00218_e0': 0.12192688511544038, 'EX_cpd00209_e0': 492.5209318948779, 'EX_cpd00007_e0': 615.1359573245084, 'EX_cpd00064_e0': 27.66354029461334, 'EX_cpd03161_e0': 10.715435645329448, 'EX_cpd00644_e0': 0.030829625034004337, 'EX_cpd00383_e0': 0.0053523654572072855, 'EX_cpd00048_e0': 0.2321856135336621, 'EX_tag160[e]': 81.9720637396445, 'EX_cpd00305_e0': 0.011935774969572762, 'EX_cpd00161_e0': 29.128429196596468, 'EX_cpd00092_e0': 17.705357314163816, 'EX_cpd00034_e0': 0.01825156620907764}}, 'M_Leaf304': {'media': {'EX_cpd19151_e0': 4.371713952637039, 'EX_cpd27608_e0': 6.340595742642337, 'EX_cpd00128_e0': 5.6472833011556505, 'EX_cpd00051_e0': 9.377487479538312, 'EX_cpd00132_e0': 7.642161533713242, 'EX_cpd00063_e0': 0.16501400420227405, 'EX_cpd01017_e0': 2.921619706295081, 'EX_cpd00137_e0': 528.7733064503236, 'EX_cpd00099_e0': 0.16501400420226683, 'EX_cpd00149_e0': 0.0031702978713211687, 'EX_cpd00307_e0': 10.48718684343686, 'EX_cpd00058_e0': 0.022477411907667083, 'EX_cpd00438_e0': 0.8295401410098971, 'EX_cpd10516_e0': 0.24753685779275691, 'EX_cpd00080_e0': 31.26208538822676, 'EX_glygln[e]': 8.371234935180974, 'EX_glymet[e]': 4.879373750771698, 'EX_cpd35679_e0': 5.873452351303162, 'EX_glyser[e]': 3.961635922981531, 'EX_cpd00207_e0': 7.7110521064570525, 'EX_hishis[e]': 1.501738398666124, 'EX_istfrnA[e]': 0.21288550205921647, 'EX_cpd00205_e0': 6.188199523967929, 'EX_cpd00107_e0': 14.283174702679457, 'EX_cpd00039_e0': 10.879225878204437, 'EX_cpd01355_e0': 344.242748373019, 'EX_cpd00254_e0': 0.2750233403371114, 'EX_cpd20863_e0': 0.021906758290829276, 'EX_cpd00007_e0': 1000.0, 'EX_cpd00644_e0': 0.018260915739154993, 'EX_cpd00129_e0': 7.008101959449009, 'EX_cpd00118_e0': 206.29966931066252, 'EX_cpd03396_e0': 420.3694735379453, 'EX_cpd00383_e0': 0.024379590630459684, 'EX_cpd00048_e0': 0.13752752165791227, 'EX_cpd00305_e0': 0.007069764253046206, 'EX_cpd00161_e0': 17.25326826338921, 'EX_cpd15097_e0': 1000.0, 'EX_cpd00065_e0': 1.8020924189950918, 'EX_cpd00034_e0': 0.010810715741205186}}, 'model_index2': {'media': {'EX_cpd00150_e0': 7.471795103598631, 'EX_cpd00051_e0': 780.0076233004222, 'EX_cpd00132_e0': 425.3840293863618, 'EX_cpd01048_e0': 1000.0, 'EX_cpd11694_e0': 0.008107768461737462, 'EX_cpd00001_e0': 281.67614707590116, 'EX_cpd00448_e0': 230.58264976402205, 'EX_cpd00139_e0': 557.35083693909, 'EX_cpd00311_e0': 2.121478695698225, 'EX_cpd00207_e0': 37.13844421583464, 'EX_cpd00025_e0': 1000.0000000000001, 'EX_cpd00084_e0': 7.471795103598935, 'EX_cpd00438_e0': 2.1214786956982254, 'EX_cpd00047_e0': 6.970056343859294e-10, 'EX_cpd00063_e0': 0.8440186968668701, 'EX_cpd00099_e0': 0.8440186968668701, 'EX_cpd00149_e0': 0.01621553692347493, 'EX_cpd00058_e0': 0.11496815678743728, 'EX_cpd10515_e0': 0.5444366522056707, 'EX_cpd10516_e0': 1.8105457751905936, 'EX_cpd00393_e0': 0.10848194201804733, 'EX_cpd00067_e0': 1000.0, 'EX_cpd00205_e0': 31.65159298703842, 'EX_cpd00254_e0': 1.40669782811145, 'EX_cpd20863_e0': 0.11204936014121175, 'EX_cpd00007_e0': 1000.0, 'EX_cpd00119_e0': 15.362275370561683, 'EX_cpd00322_e0': 23.55541863420124, 'EX_cpd00107_e0': 36.52801032835039, 'EX_cpd00106_e0': 641.3562828716994, 'EX_cpd02090_e0': 533.6884942143914, 'EX_cpd00609_e0': 106.42562592265838, 'EX_cpd00023_e0': 50.788683198015526, 'EX_cpd00039_e0': 27.822699330982903, 'EX_cpd01355_e0': 380.37451552852764, 'EX_cpd00060_e0': 12.470477593313777, 'EX_cpd11576_e0': 12.478585361775512, 'EX_cpd02027_e0': 0.008107768461737462, 'EX_cpd00644_e0': 0.09340149267922289, 'EX_cpd00220_e0': 0.07232129467869819, 'EX_cpd00048_e0': 0.7034299917403424, 'EX_cpd00305_e0': 0.03616064733934909, 'EX_cpd00034_e0': 0.05529498090904952, 'EX_cpd00355_e0': 0.36938993111710217, 'EX_cpd00209_e0': 1000.0000000000001, 'EX_cpd00066_e0': 30.041714481275832, 'EX_cpd00129_e0': 303.80189282245016, 'EX_cpd00118_e0': 760.0300007330167, 'EX_cpd00020_e0': 201.31352808983436, 'EX_cpd00268_e0': 7.471795103598629, 'EX_cpd03396_e0': 557.342729170628, 'EX_cpd00550_e0': 27.13345793405045, 'EX_cpd00161_e0': 44.123773211729166, 'EX_cpd00151_e0': 2.121478695698225, 'EX_cpd00065_e0': 9.217397653410853, 'EX_cpd00069_e0': 22.360576795994987, 'EX_cpd00286_e0': 16.215536923474925, 'EX_cpd00249_e0': 1000.0, 'EX_cpd00012_e0': 35.828836915052214, 'EX_tag160[e]': 110.06193669966372, 'EX_cpd05178_e0': 36.52801032835041, 'EX_cpd00281_e0': 347.4386761783714, 'EX_cpd00136_e0': 0.008107768461737464, 'EX_cpd00489_e0': 239.96999926698325, 'EX_cpd19151_e0': 112.92905307472077, 'EX_cpd27569_e0': 16.21553692347493, 'EX_cpd00331_e0': 55.47464905816191, 'EX_cpd00182_e0': 31.00637677284897, 'EX_cpd00024_e0': 1000.0, 'EX_alathr[e]': 20.568354577527927}}, 'M_Leaf202': {'media': {'EX_cpd00988_e0': 49.11638251733759, 'EX_cpd00989_e0': 36.442832432754074, 'EX_cpd00851_e0': 103.46164139538838, 'EX_cpd00024_e0': 1000.0, 'EX_cpd00051_e0': 32.586642152841485, 'EX_cpd00132_e0': 1000.0, 'EX_cpd01048_e0': 950.6615330746359, 'EX_cpd11694_e0': 0.011016742221701056, 'EX_cpd00063_e0': 0.5734214326470627, 'EX_cpd00099_e0': 0.5734214326470626, 'EX_cpd00010_e0': 0.06345643519837933, 'EX_cpd00149_e0': 0.011016742221845585, 'EX_cpd00058_e0': 0.0781087023528852, 'EX_cpd10515_e0': 0.7397742401969309, 'EX_cpd10516_e0': 0.860187232681703, 'EX_cpd00393_e0': 0.0737020054641394, 'EX_cpd00507_e0': 2.5962102558705624e-11, 'EX_cpd00280_e0': 125.27719697238078, 'EX_cpd00023_e0': 257.2313463144405, 'EX_glymet[e]': 16.955757786220275, 'EX_cpd00042_e0': 10.089132526766162, 'EX_cpd00025_e0': 5.044566263383018, 'EX_cpd00119_e0': 10.437041246132068, 'EX_cpd00322_e0': 32.006831009705756, 'EX_cpd00359_e0': 6.262246781163685, 'EX_cpd00205_e0': 21.503909645087052, 'EX_cpd00107_e0': 49.63383889950312, 'EX_cpd00039_e0': 37.80516277590752, 'EX_cpd01355_e0': 873.866700514344, 'EX_cpd15497_e0': 3.933575685342134e-14, 'EX_cpd00254_e0': 0.9557023877451044, 'EX_cpd20863_e0': 0.07612568875295299, 'EX_cpd00218_e0': 0.250961387813476, 'EX_cpd00209_e0': 500.0000000000004, 'EX_cpd00007_e0': 1000.0, 'EX_cpd01080_e0': 217.54488069956744, 'EX_cpd00066_e0': 20.410167477302217, 'EX_cpd00009_e0': 22.885739621942758, 'EX_cpd00129_e0': 24.353059518500753, 'EX_cpd00263_e0': 29.03131910295383, 'EX_cpd00588_e0': 126.13329948565602, 'EX_cpd03396_e0': 999.9999999999999, 'EX_cpd00048_e0': 0.4779062775836613, 'EX_cpd00305_e0': 0.024567335154715642, 'EX_cpd00161_e0': 27.9480428403334, 'EX_cpd15097_e0': 1000.0000000000001, 'EX_cpd00069_e0': 15.191646854236184, 'EX_cpd00034_e0': 0.03756709097649344, 'EX_cpd00220_e0': 0.04913467030896638}}, 'M_Leaf8': {'media': {'EX_cpd00851_e0': 60.71286155066664, 'EX_cpd15387_e0': 6.347927165628836, 'EX_cpd00128_e0': 12.968624761561273, 'EX_cpd00051_e0': 723.6153770637179, 'EX_cpd00132_e0': 15.301995829106593, 'EX_cpd01017_e0': 1.2097651050969602e-13, 'EX_cpd00084_e0': 5.8436478315913725, 'EX_cpd11594_e0': 362.97740559561015, 'EX_cpd00507_e0': 62.59646542535941, 'EX_cpd02090_e0': 999.9999999999999, 'EX_cpd00023_e0': 1.2097651050969602e-13, 'EX_glymet[e]': 6.146162032552439e-09, 'EX_cpd00207_e0': 15.369156898518952, 'EX_cpd00001_e0': 1000.0, 'EX_hishis[e]': 3.0069496190867233, 'EX_cpd00322_e0': 13.019891180250582, 'EX_cpd00107_e0': 28.59937973857926, 'EX_cpd00039_e0': 21.783610340843577, 'EX_cpd00637_e0': 9.776379142366977, 'EX_cpd00066_e0': 11.760487263402267, 'EX_cpd00129_e0': 358.05705384926233, 'EX_cpd00588_e0': 274.0451888087795, 'EX_cpd00383_e0': 0.006347927165452225, 'EX_cpd00161_e0': 21.520196196282605, 'EX_cpd00065_e0': 3.6083522387584, 'EX_cpd00069_e0': 8.753537644315543, 'EX_cpd00092_e0': 20.99862566754191, 'EX_cpd00156_e0': 26.862015552618303, 'EX_cpd00063_e0': 0.3304096089709811, 'EX_cpd00099_e0': 0.330409608970981, 'EX_cpd00149_e0': 0.006347927165628839, 'EX_cpd00058_e0': 0.045006803604308455, 'EX_cpd10515_e0': 0.4262633091719764, 'EX_cpd10516_e0': 0.49564615309229976, 'EX_cpd00393_e0': 0.04246763273805671, 'EX_cpd00067_e0': 1000.0, 'EX_cpd00205_e0': 12.3907094724059, 'EX_cpd00254_e0': 0.5506826816183017, 'EX_cpd20863_e0': 0.04386417671449528, 'EX_cpd00007_e0': 361.30546676901184, 'EX_cpd00644_e0': 0.03656406047393429, 'EX_cpd00220_e0': 0.028311755158704613, 'EX_cpd00048_e0': 0.27537308044497893, 'EX_cpd00305_e0': 0.014155877579352306, 'EX_cpd00034_e0': 0.02164643163479434}}, 'M_Leaf164': {'media': {'EX_6atha[e]': 530.4451928413717, 'EX_cpd15387_e0': 5.3148098755338, 'EX_cpd27569_e0': 10.629619751067597, 'EX_cpd00182_e0': 9.467323979379039, 'EX_cpd00024_e0': 1000.0, 'EX_cpd00051_e0': 15.72078242703894, 'EX_cpd00132_e0': 12.811614945468001, 'EX_cpd11694_e0': 0.005314809875533802, 'EX_cpd00063_e0': 0.27663585402153434, 'EX_cpd01017_e0': 4.897916188897235, 'EX_cpd00099_e0': 0.2766358540215343, 'EX_cpd00149_e0': 0.005314809875533801, 'EX_cpd00307_e0': 16.221065480623228, 'EX_cpd00058_e0': 0.037682002017534647, 'EX_cpd00438_e0': 1.3906731520321747, 'EX_cpd10516_e0': 0.4149803550816793, 'EX_cpd00027_e0': 49.16879198148612, 'EX_cpd00053_e0': 14.033861772544514, 'EX_cpd00023_e0': 4.897916188897235, 'EX_cpd00311_e0': 12.927105764063537, 'EX_cpd00001_e0': 977.5985999148597, 'EX_hishis[e]': 2.5175722899416058, 'EX_istfrnA[e]': 0.35688948314209473, 'EX_cpd00205_e0': 10.374136840350669, 'EX_cpd00039_e0': 18.238354716980545, 'EX_cpd01914_e0': 8.179970731335315, 'EX_cpd00254_e0': 0.4610597567025573, 'EX_cpd20863_e0': 0.036725336239938566, 'EX_cpd00355_e0': 1000.0, 'EX_cpd00209_e0': 1000.0, 'EX_cpd00418_e0': 999.999999997149, 'EX_cpd00007_e0': 1000.0, 'EX_cpd00532_e0': 261.5246756395354, 'EX_cpd00066_e0': 9.846482515907695, 'EX_cpd00129_e0': 1000.0, 'EX_cpd00382_e0': 76.27873596274782, 'EX_cpd00383_e0': 0.03555607806732285, 'EX_cpd00048_e0': 0.23055645240065623, 'EX_cpd00305_e0': 0.011852026022440374, 'EX_cpd00161_e0': 28.92404571223503, 'EX_cpd00151_e0': 1.3906731520321745, 'EX_cpd00065_e0': 3.0210973775496783, 'EX_cpd00374_e0': 392.2870134593033, 'EX_cpd00069_e0': 7.328910225966091, 'EX_cpd00034_e0': 0.018123501675570263}}, 'M_Leaf34': {'media': {'EX_cpd00182_e0': 11.196679142820361, 'EX_cpd00024_e0': 6.2629980163370425, 'EX_alathr[e]': 13.90354210654356, 'EX_cpd00051_e0': 16.211144153179845, 'EX_cpd11694_e0': 17.76549403190657, 'EX_cpd00063_e0': 0.2852646634030032, 'EX_cpd00137_e0': 0.2852646634032004, 'EX_cpd00099_e0': 0.2852646634030032, 'EX_cpd00149_e0': 0.005480589114370858, 'EX_cpd00058_e0': 0.038857376820882306, 'EX_cpd00367_e0': 16.695463813216815, 'EX_cpd00277_e0': 1.4806907610298066, 'EX_cpd10515_e0': 0.7959459570800798, 'EX_cpd27103_e0': 10.961178228741714, 'EX_cpd00448_e0': 366.036576428523, 'EX_cpd00080_e0': 190.26609100463168, 'EX_glygln[e]': 27.81990879167246, 'EX_glymet[e]': 5.68419299983345, 'EX_cpd00207_e0': 11.84963653007279, 'EX_hishis[e]': 2.596100257586332, 'EX_cpd00359_e0': 3.115331270281827, 'EX_cpd00205_e0': 10.697726310013913, 'EX_cpd00039_e0': 18.807244410766177, 'EX_cpd03718_e0': 380.3219192089096, 'EX_cpd15497_e0': 18.673627648294104, 'EX_cpd00254_e0': 0.4754411056716721, 'EX_cpd20863_e0': 0.03787087078030263, 'EX_cpd08023_e0': 0.031568193299771216, 'EX_cpd00209_e0': 181.95679172954124, 'EX_cpd00007_e0': 513.1194273712251, 'EX_cpd00129_e0': 12.115116266772501, 'EX_cpd00048_e0': 5.269093180446326, 'EX_cpd00184_e0': 1.4340509476662788, 'EX_cpd00034_e0': 0.01868880888000463}}, 'M_Leaf154': {'media': {'EX_6atha[e]': 530.4451928413151, 'EX_cpd15387_e0': 5.314809875533772, 'EX_cpd27569_e0': 10.629619751067544, 'EX_cpd00182_e0': 9.467323979383288, 'EX_cpd00024_e0': 1000.0, 'EX_cpd00051_e0': 15.72078242703886, 'EX_cpd00132_e0': 12.811614945467936, 'EX_cpd11694_e0': 0.005314809875533775, 'EX_cpd00063_e0': 0.27663585402153296, 'EX_cpd01017_e0': 4.897916188897111, 'EX_cpd00099_e0': 0.2766358540215329, 'EX_cpd00149_e0': 0.005314809875533775, 'EX_cpd00307_e0': 16.221065480623047, 'EX_cpd00058_e0': 0.03768200201753445, 'EX_cpd00438_e0': 1.3906731520321673, 'EX_cpd10516_e0': 0.41498035508167713, 'EX_cpd00027_e0': 49.16879198156359, 'EX_cpd00053_e0': 14.03386177254444, 'EX_cpd00023_e0': 4.897916188897111, 'EX_cpd00311_e0': 12.927105764063471, 'EX_cpd00001_e0': 977.5985999147432, 'EX_hishis[e]': 2.5175722899415924, 'EX_istfrnA[e]': 0.3568894831420929, 'EX_cpd00205_e0': 10.374136840350669, 'EX_cpd00039_e0': 18.238354716980453, 'EX_cpd01914_e0': 8.179970731335272, 'EX_cpd00254_e0': 0.4610597567025549, 'EX_cpd20863_e0': 0.03672533623993838, 'EX_cpd00355_e0': 1000.0, 'EX_cpd00209_e0': 1000.0, 'EX_cpd00418_e0': 999.9999999963871, 'EX_cpd00007_e0': 1000.0, 'EX_cpd00532_e0': 261.52467563968935, 'EX_cpd00066_e0': 9.846482515907645, 'EX_cpd00129_e0': 1000.0, 'EX_cpd00382_e0': 76.27873596274746, 'EX_cpd00383_e0': 0.03555607806732095, 'EX_cpd00048_e0': 0.23055645240065506, 'EX_cpd00305_e0': 0.011852026022440315, 'EX_cpd00161_e0': 28.92404571223488, 'EX_cpd00151_e0': 1.3906731520321671, 'EX_cpd00065_e0': 3.021097377549663, 'EX_cpd00374_e0': 392.2870134595342, 'EX_cpd00069_e0': 7.328910225966053, 'EX_cpd00034_e0': 0.018123501675570173}}, 'M_Leaf15': {'media': {'EX_cpd00136_e0': 0.007232849370652146, 'EX_cpd00182_e0': 14.776494278760795, 'EX_cpd00024_e0': 810.3687960703398, 'EX_cpd00051_e0': 458.0269331984154, 'EX_cpd00132_e0': 17.435145050425522, 'EX_cpd00150_e0': 6.665504666017647, 'EX_cpd00412_e0': 23.92590407564763, 'EX_cpd00080_e0': 63.92500766523124, 'EX_cpd00100_e0': 9.06857486210711e-16, 'EX_cpd00207_e0': 17.51166859676703, 'EX_cpd00025_e0': 305.38386649153404, 'EX_cpd00119_e0': 6.852256836768427, 'EX_cpd00322_e0': 21.013524948061963, 'EX_cpd00359_e0': 8.104874604263845e-16, 'EX_cpd00107_e0': 32.58622859809281, 'EX_cpd01914_e0': 11.132006137877006, 'EX_cpd00355_e0': 0.16476430866343025, 'EX_cpd00066_e0': 13.399938386538693, 'EX_cpd00129_e0': 579.3558317883189, 'EX_cpd00118_e0': 1000.0000000000351, 'EX_cpd00550_e0': 5.856655120897621, 'EX_cpd00184_e0': 9.637171916689333, 'EX_cpd00065_e0': 4.111368567759797, 'EX_cpd00268_e0': 6.665504666017647, 'EX_cpd00069_e0': 9.973809968154479, 'EX_cpd00286_e0': 7.2328493706521435, 'EX_cpd00249_e0': 1000.0, 'EX_cpd00063_e0': 0.3764698097424441, 'EX_cpd00099_e0': 0.37646980974244404, 'EX_cpd00149_e0': 0.007232849370652144, 'EX_cpd00058_e0': 0.05128090203792369, 'EX_cpd10516_e0': 1.0504267140998107, 'EX_cpd00393_e0': 0.048387762289663475, 'EX_cpd00205_e0': 14.118015672057037, 'EX_cpd00254_e0': 0.6274496829040734, 'EX_cpd20863_e0': 0.04997898915120631, 'EX_cpd00007_e0': 1000.0, 'EX_cpd00644_e0': 0.041661212374412344, 'EX_cpd00220_e0': 0.03225850819310856, 'EX_cpd00048_e0': 0.3137610056988899, 'EX_cpd00305_e0': 0.016129254096554278, 'EX_cpd00034_e0': 0.02466401635392381}}, 'M_Leaf179': {'media': {'EX_cpd27569_e0': 487.7016656917177, 'EX_cpd00182_e0': 14.804285813546455, 'EX_cpd00024_e0': 634.2209870730037, 'EX_alatrp[e]': 4.724163781146586, 'EX_cpd00132_e0': 537.7388903748583, 'EX_cpd00063_e0': 0.4325822437392112, 'EX_cpd00137_e0': 0.43258224373921117, 'EX_cpd00099_e0': 0.43258224373921117, 'EX_cpd00149_e0': 0.008310898054547764, 'EX_cpd00058_e0': 0.05892426720674366, 'EX_cpd00438_e0': 2.174629584952968, 'EX_cpd10515_e0': 1.2069917244619717, 'EX_cpd35679_e0': 15.397185280757919, 'EX_cpd00311_e0': 20.17736451479216, 'EX_hishis[e]': 3.9367892994587304, 'EX_cpd00205_e0': 16.22229123961342, 'EX_cpd01355_e0': 143.39998632207906, 'EX_cpd00254_e0': 0.7209704062320186, 'EX_cpd02027_e0': 14.643054391288166, 'EX_cpd20863_e0': 0.05742830555692507, 'EX_cpd00009_e0': 81.95318395303121, 'EX_cpd00644_e0': 0.047870772794364164, 'EX_cpd00129_e0': 42.954627267988485, 'EX_cpd00383_e0': 11.52430678733866, 'EX_cpd00048_e0': 22.654261461989105, 'EX_cpd00305_e0': 0.01853330266164151, 'EX_cpd00151_e0': 2.174629584952968, 'EX_cpd00092_e0': 25.317405634588436, 'EX_cpd00034_e0': 0.02834016236600788, 'EX_cpd00218_e0': 0.18932225768282154, 'EX_cpd00007_e0': 829.8940157962832, 'EX_cpd00220_e0': 0.03706660532329588}}, 'M_Leaf257': {'media': {'EX_cpd00281_e0': 985.6653650427335, 'EX_cpd01587_e0': 3.980130667496419e-13, 'EX_cpd00182_e0': 18.613531432269436, 'EX_cpd00024_e0': 30.283112363617885, 'EX_alathr[e]': 11.221962266678817, 'EX_cpd00051_e0': 13.084496496806922, 'EX_cpd11694_e0': 14.339058503710225, 'EX_cpd00158_e0': 456.6540977583315, 'EX_cpd00010_e0': 0.02547962751644885, 'EX_cpd00084_e0': 4.060948341727856, 'EX_cpd00367_e0': 13.475405296038417, 'EX_cpd00438_e0': 1.1574651624636565, 'EX_cpd11594_e0': 379.6029204917084, 'EX_cpd03738_e0': 48.71412826960377, 'EX_cpd00363_e0': 47.15700480946463, 'EX_cpd27103_e0': 8.847092887439093, 'EX_cpd11581_e0': 10.663179879908151, 'EX_glygln[e]': 11.791095752127932, 'EX_glymet[e]': 14.441552074823468, 'EX_hishis[e]': 2.095389714925512, 'EX_cpd00359_e0': 2.514476505003502, 'EX_cpd00039_e0': 15.179886211732432, 'EX_cpd00637_e0': 5.218369268715771, 'EX_cpd00209_e0': 304.01810740033477, 'EX_cpd00064_e0': 9.778470591164247, 'EX_phedca[e]': 1.1699744532447111e-11, 'EX_cpd00012_e0': 21.771921475359857, 'EX_cpd00184_e0': 1.157465162463657, 'EX_cpd26831_e0': 1000.0, 'EX_cpd00063_e0': 0.23024559239560244, 'EX_cpd00099_e0': 0.2302455923956024, 'EX_cpd00149_e0': 0.004423546443719548, 'EX_cpd00058_e0': 0.0313629442859716, 'EX_cpd10516_e0': 0.6424316500213901, 'EX_cpd00205_e0': 8.634453009889496, 'EX_cpd00254_e0': 0.38374265399267077, 'EX_cpd20863_e0': 0.030566705926102104, 'EX_cpd00218_e0': 0.10076838798832366, 'EX_cpd00007_e0': 1000.0, 'EX_cpd00048_e0': 0.19189344472855388, 'EX_cpd00034_e0': 0.015084293373083655}}, 'M_Leaf145': {'media': {'EX_cpd00136_e0': 15.435188791846322, 'EX_cpd15387_e0': 10.43694570416553, 'EX_cpd27569_e0': 20.873891408331062, 'EX_cpd00182_e0': 18.591435752284404, 'EX_cpd00024_e0': 849.9671391630241, 'EX_cpd00051_e0': 30.871650437265306, 'EX_cpd00132_e0': 1000.0, 'EX_cpd11694_e0': 0.01043694570416553, 'EX_cpd00063_e0': 0.5432430239018159, 'EX_cpd00099_e0': 0.5432430239018157, 'EX_cpd00149_e0': 0.010436945704165531, 'EX_cpd00058_e0': 0.07399794504253361, 'EX_cpd00084_e0': 9.618271683130455, 'EX_cpd00438_e0': 2.7309312129519534, 'EX_cpd00162_e0': 7.296694152351099e-14, 'EX_cpd10516_e0': 0.8149167205812448, 'EX_cpd00393_e0': 0.06982316676086738, 'EX_cpd02090_e0': 92.24329167526678, 'EX_cpd00139_e0': 1000.0, 'EX_cpd00311_e0': 2.730931212952106, 'EX_cpd00207_e0': 22.538271139774178, 'EX_cpd00119_e0': 9.88775362121234, 'EX_istfrnA[e]': 0.7008409040347153, 'EX_cpd00205_e0': 20.372187428331827, 'EX_cpd00039_e0': 35.81552724787171, 'EX_cpd01355_e0': 538.4620088222224, 'EX_cpd00254_e0': 0.9054050398363599, 'EX_cpd02027_e0': 8.036917854764145, 'EX_cpd20863_e0': 0.0721192948157838, 'EX_cpd00355_e0': 0.23775362313970208, 'EX_cpd00209_e0': 1.905379220722405e-13, 'EX_cpd00007_e0': 1000.0, 'EX_cpd00066_e0': 8.899061754656845, 'EX_cpd00644_e0': 0.060116807255663075, 'EX_cpd00129_e0': 23.07139032634311, 'EX_cpd00220_e0': 0.04654877784057826, 'EX_cpd00599_e0': 1.1802876859865813e-13, 'EX_cpd00383_e0': 10.436945704165314, 'EX_cpd00081_e0': 8.02648090905998, 'EX_cpd00048_e0': 0.4527547046467006, 'EX_cpd00305_e0': 0.02327438892028913, 'EX_cpd00161_e0': 56.79952843338148, 'EX_cpd00151_e0': 2.730931212951953, 'EX_cpd00065_e0': 5.932673046618812, 'EX_cpd00069_e0': 14.3921306482161, 'EX_cpd00286_e0': 10.436945704165527, 'EX_cpd00092_e0': 31.793963329142397, 'EX_cpd00034_e0': 0.035589984851204466}}}\n",
      "\n",
      "Examining the 66 model pairs\n",
      "The ID ALATA_D2 is changed with {'D', 'c', '2', '1'} to create the final ID ALATA_c1\n",
      "The ID HMR_3951 is changed with {'9', 'c', '5', '3'} to create the final ID HMR_c1\n",
      "The ID LDH_D2 is changed with {'c', '2', '1'} to create the final ID LDH_c1\n",
      "The ID RBK_L1 is changed with {'c', 'L'} to create the final ID RBK_c1\n",
      "The ID SBTD_D2 is changed with {'c', '2', '1'} to create the final ID SBTD_c1\n",
      "The ID ALATA_D2 is changed with {'D', 'c'} to create the final ID ALATA_c2\n",
      "The ID CYTB_B2 is changed with {'c'} to create the final ID CYTB_c2\n",
      "The ID HMR_6515 is changed with {'c', '5', '2', '1', '6'} to create the final ID HMR_c2\n",
      "The ID METSR_S1 is changed with {'c', '1', '2'} to create the final ID METSR_c2\n",
      "The ID RBK_L1 is changed with {'c', 'L', '2', '1'} to create the final ID RBK_c2\n",
      "The ID SBTD_D2 is changed with {'c'} to create the final ID SBTD_c2\n",
      "cpd11416_c0 bio1: 0.5 cpd11416_c1 + 0.5 cpd11416_c2 --> cpd11416_c0;\tcpd11416_c0 SK_cpd11416_c0: cpd11416_c0 <=> ;\tM_Leaf233 300 0.5\n",
      "M_Leaf304 300 0.5\n",
      "MainProcess~~0\t['M_Leaf233', 'M_Leaf304']\n",
      "The model M_Leaf233+M_Leaf304 possesses an objective value of 0 in complete media, which is incompatible with minimal media computations.\n"
     ]
    },
    {
     "name": "stderr",
     "output_type": "stream",
     "text": [
      "c:\\Users\\Andrew Freiburger\\AppData\\Local\\Programs\\Python\\Python39\\lib\\site-packages\\sigfig\\sigfig.py:586: UserWarning: warning: 5 significant figures requested from number with only 1 significant figures\n",
      "  warn(\"warning: %d significant figures requested from number with only %d significant figures\" % (given['sigfigs'], len(num.map)))\n"
     ]
    },
    {
     "ename": "UnboundLocalError",
     "evalue": "local variable 'com_media' referenced before assignment",
     "output_type": "error",
     "traceback": [
      "\u001b[1;31m---------------------------------------------------------------------------\u001b[0m",
      "\u001b[1;31mUnboundLocalError\u001b[0m                         Traceback (most recent call last)",
      "Cell \u001b[1;32mIn[14], line 3\u001b[0m\n\u001b[0;32m      1\u001b[0m get_ipython()\u001b[39m.\u001b[39mrun_line_magic(\u001b[39m'\u001b[39m\u001b[39mrun\u001b[39m\u001b[39m'\u001b[39m, \u001b[39m'\u001b[39m\u001b[39m../commscores/commscores.py\u001b[39m\u001b[39m'\u001b[39m)\n\u001b[1;32m----> 3\u001b[0m report_table, mets \u001b[39m=\u001b[39m CommScores\u001b[39m.\u001b[39;49mreport_generation(models)\n",
      "File \u001b[1;32m~\\Documents\\Argonne\\ModelSEED\\CommScores\\commscores\\commscores.py:497\u001b[0m, in \u001b[0;36mCommScores.report_generation\u001b[1;34m(all_models, pairs, mem_media, pair_limit, exclude_pairs, kbase_obj, annotated_genomes, see_media, environments, pool_size, cip_score, costless, skip_bad_media, anme_comm, print_progress)\u001b[0m\n\u001b[0;32m    495\u001b[0m     series \u001b[39m=\u001b[39m chain\u001b[39m.\u001b[39mfrom_iterable([ele[\u001b[39m0\u001b[39m] \u001b[39mfor\u001b[39;00m ele \u001b[39min\u001b[39;00m output])\n\u001b[0;32m    496\u001b[0m     mets \u001b[39m=\u001b[39m chain\u001b[39m.\u001b[39mfrom_iterable([ele[\u001b[39m1\u001b[39m] \u001b[39mfor\u001b[39;00m ele \u001b[39min\u001b[39;00m output])\n\u001b[1;32m--> 497\u001b[0m \u001b[39melse\u001b[39;00m:  series, mets \u001b[39m=\u001b[39m CommScores\u001b[39m.\u001b[39;49mcalculate_scores(pairs, models_media, environments, annotated_genomes, lazy_load,\n\u001b[0;32m    498\u001b[0m                                                   kbase_obj, cip_score, costless, skip_bad_media, anme_comm, print_progress)\n\u001b[0;32m    499\u001b[0m \u001b[39mreturn\u001b[39;00m concat(series, axis\u001b[39m=\u001b[39m\u001b[39m1\u001b[39m)\u001b[39m.\u001b[39mT, mets\n",
      "File \u001b[1;32m~\\Documents\\Argonne\\ModelSEED\\CommScores\\commscores\\commscores.py:382\u001b[0m, in \u001b[0;36mCommScores.calculate_scores\u001b[1;34m(pairs, models_media, environments, annotated_genomes, lazy_load, kbase_obj, cip_score, costless, skip_bad_media, anme_comm, print_progress)\u001b[0m\n\u001b[0;32m    380\u001b[0m     \u001b[39mif\u001b[39;00m print_progress:  \u001b[39mprint\u001b[39m(\u001b[39m\"\u001b[39m\u001b[39mCIP done\u001b[39m\u001b[39m\"\u001b[39m, end\u001b[39m=\u001b[39m\u001b[39m\"\u001b[39m\u001b[39m\\t\u001b[39;00m\u001b[39m\"\u001b[39m)\n\u001b[0;32m    381\u001b[0m \u001b[39m# define the MIP content\u001b[39;00m\n\u001b[1;32m--> 382\u001b[0m mip_values \u001b[39m=\u001b[39m CommScores\u001b[39m.\u001b[39;49mmip(grouping, comm_model, \u001b[39m0.1\u001b[39;49m, \u001b[39mNone\u001b[39;49;00m, \u001b[39mNone\u001b[39;49;00m, environ, print_progress, \u001b[39mTrue\u001b[39;49;00m,\n\u001b[0;32m    383\u001b[0m                             costless, costless, skip_bad_media)\n\u001b[0;32m    384\u001b[0m \u001b[39m# print(mip_values)\u001b[39;00m\n\u001b[0;32m    385\u001b[0m \u001b[39mif\u001b[39;00m mip_values \u001b[39mis\u001b[39;00m \u001b[39mnot\u001b[39;00m \u001b[39mNone\u001b[39;00m:\n",
      "File \u001b[1;32m~\\Documents\\Argonne\\ModelSEED\\CommScores\\commscores\\commscores.py:535\u001b[0m, in \u001b[0;36mCommScores.mip\u001b[1;34m(member_models, com_model, min_growth, interacting_media_dict, noninteracting_media_dict, environment, printing, compatibilized, costless, multi_output, skip_bad_media)\u001b[0m\n\u001b[0;32m    533\u001b[0m member_models, community \u001b[39m=\u001b[39m _load_models(member_models, com_model, \u001b[39mnot\u001b[39;00m compatibilized, printing\u001b[39m=\u001b[39mprinting)\n\u001b[0;32m    534\u001b[0m \u001b[39m# determine the interacting and non-interacting media for the specified community  .util.model\u001b[39;00m\n\u001b[1;32m--> 535\u001b[0m noninteracting_medium, noninteracting_sol \u001b[39m=\u001b[39m _get_media(\n\u001b[0;32m    536\u001b[0m     noninteracting_media_dict, community, \u001b[39mNone\u001b[39;49;00m, min_growth, environment, \u001b[39mFalse\u001b[39;49;00m, skip_bad_media\u001b[39m=\u001b[39;49mskip_bad_media)\n\u001b[0;32m    537\u001b[0m \u001b[39mif\u001b[39;00m noninteracting_medium \u001b[39mis\u001b[39;00m \u001b[39mNone\u001b[39;00m:  \u001b[39mreturn\u001b[39;00m \u001b[39mNone\u001b[39;00m\n\u001b[0;32m    538\u001b[0m \u001b[39mif\u001b[39;00m \u001b[39m\"\u001b[39m\u001b[39mcommunity_media\u001b[39m\u001b[39m\"\u001b[39m \u001b[39min\u001b[39;00m noninteracting_medium:  noninteracting_medium \u001b[39m=\u001b[39m noninteracting_medium[\u001b[39m\"\u001b[39m\u001b[39mcommunity_media\u001b[39m\u001b[39m\"\u001b[39m]\n",
      "File \u001b[1;32m~\\Documents\\Argonne\\ModelSEED\\CommScores\\commscores\\commscores.py:115\u001b[0m, in \u001b[0;36m_get_media\u001b[1;34m(media, com_model, model_s_, min_growth, environment, interacting, printing, minimization_method, skip_bad_media)\u001b[0m\n\u001b[0;32m    113\u001b[0m     \u001b[39m# print(members_media)\u001b[39;00m\n\u001b[0;32m    114\u001b[0m     \u001b[39mif\u001b[39;00m com_model \u001b[39mis\u001b[39;00m \u001b[39mNone\u001b[39;00m:  \u001b[39mreturn\u001b[39;00m members_media\n\u001b[1;32m--> 115\u001b[0m \u001b[39melse\u001b[39;00m:  \u001b[39mreturn\u001b[39;00m com_media, media_sol\n\u001b[0;32m    116\u001b[0m \u001b[39mreturn\u001b[39;00m {\u001b[39m\"\u001b[39m\u001b[39mcommunity_media\u001b[39m\u001b[39m\"\u001b[39m:com_media, \u001b[39m\"\u001b[39m\u001b[39mmembers\u001b[39m\u001b[39m\"\u001b[39m:members_media}\n",
      "\u001b[1;31mUnboundLocalError\u001b[0m: local variable 'com_media' referenced before assignment"
     ]
    }
   ],
   "source": [
    "%run ../commscores/commscores.py\n",
    "\n",
    "report_table, mets = CommScores.report_generation(models)"
   ]
  },
  {
   "cell_type": "code",
   "execution_count": 8,
   "metadata": {},
   "outputs": [
    {
     "ename": "NameError",
     "evalue": "name 'report_table' is not defined",
     "output_type": "error",
     "traceback": [
      "\u001b[0;31m---------------------------------------------------------------------------\u001b[0m",
      "\u001b[0;31mNameError\u001b[0m                                 Traceback (most recent call last)",
      "Cell \u001b[0;32mIn [8], line 1\u001b[0m\n\u001b[0;32m----> 1\u001b[0m report_table\n",
      "\u001b[0;31mNameError\u001b[0m: name 'report_table' is not defined"
     ]
    }
   ],
   "source": [
    "report_table"
   ]
  }
 ],
 "metadata": {
  "kernelspec": {
   "display_name": "Python 3",
   "language": "python",
   "name": "python3"
  },
  "language_info": {
   "codemirror_mode": {
    "name": "ipython",
    "version": 3
   },
   "file_extension": ".py",
   "mimetype": "text/x-python",
   "name": "python",
   "nbconvert_exporter": "python",
   "pygments_lexer": "ipython3",
   "version": "3.9.6"
  },
  "vscode": {
   "interpreter": {
    "hash": "31f2aee4e71d21fbe5cf8b01ff0e069b9275f58929596ceb00d14d90e3e16cd6"
   }
  }
 },
 "nbformat": 4,
 "nbformat_minor": 2
}
