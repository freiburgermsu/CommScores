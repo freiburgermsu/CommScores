{
 "cells": [
  {
   "cell_type": "code",
   "execution_count": 1,
   "metadata": {},
   "outputs": [],
   "source": [
    "from glob import glob\n",
    "from cobra.io import read_sbml_model\n",
    "\n",
    "models = [read_sbml_model(mdl) for mdl in glob(\"*.xml\")]    "
   ]
  },
  {
   "cell_type": "code",
   "execution_count": 2,
   "metadata": {},
   "outputs": [
    {
     "name": "stdout",
     "output_type": "stream",
     "text": [
      "{<Metabolite 12dgr120[p] at 0x1d6d14731f0>: -2.0, <Metabolite 12dgr120[c] at 0x1d6d1473130>: 2.0, <Metabolite cpd11416 at 0x1d70339d2b0>: 1} 2.0 12dgr120[p] --> 2.0 12dgr120[c] + cpd11416\n"
     ]
    }
   ],
   "source": [
    "# testing reaction editing logic\n",
    "\n",
    "# from cobra import Metabolite\n",
    "# for rxn in models[0].reactions:\n",
    "#     rxn_stoich = rxn.metabolites\n",
    "#     rxn_stoich.update({Metabolite(\"cpd11416\"): 1})\n",
    "#     rxn.add_metabolites(rxn_stoich)\n",
    "#     print(rxn.metabolites, rxn.reaction)\n",
    "#     break"
   ]
  },
  {
   "cell_type": "code",
   "execution_count": 5,
   "metadata": {},
   "outputs": [
    {
     "name": "stdout",
     "output_type": "stream",
     "text": [
      "modelseedpy 0.2.2\n",
      "The minimal flux media consists of 47 compounds and a 8606.73698771227 total influx, with a growth value of 110.1674222184562\n"
     ]
    },
    {
     "data": {
      "text/plain": [
       "({'EX_cpd00988_e0': 49.116382517344356,\n",
       "  'EX_cpd00989_e0': 36.44283243275391,\n",
       "  'EX_cpd00851_e0': 103.46164139544018,\n",
       "  'EX_cpd00024_e0': 1000.0,\n",
       "  'EX_cpd00051_e0': 32.58664215284134,\n",
       "  'EX_cpd00132_e0': 1000.0,\n",
       "  'EX_cpd01048_e0': 950.661533074386,\n",
       "  'EX_cpd11694_e0': 0.011016742221845531,\n",
       "  'EX_cpd00063_e0': 0.5734214326470601,\n",
       "  'EX_cpd00099_e0': 0.57342143264706,\n",
       "  'EX_cpd00010_e0': 0.06345643519867573,\n",
       "  'EX_cpd00149_e0': 0.011016742221845536,\n",
       "  'EX_cpd00058_e0': 0.07810870235288486,\n",
       "  'EX_cpd10515_e0': 1.599961472878627,\n",
       "  'EX_cpd00393_e0': 0.07370200546413846,\n",
       "  'EX_cpd00280_e0': 125.27719697240025,\n",
       "  'EX_cpd00023_e0': 257.23134631435966,\n",
       "  'EX_glymet[e]': 16.95575778622024,\n",
       "  'EX_cpd00311_e0': 1.9876252378697282e-13,\n",
       "  'EX_cpd00042_e0': 10.089132526766065,\n",
       "  'EX_cpd00025_e0': 5.044566263379862,\n",
       "  'EX_cpd00119_e0': 10.43704124613202,\n",
       "  'EX_cpd00322_e0': 32.00683100970561,\n",
       "  'EX_cpd00359_e0': 6.2622467811636575,\n",
       "  'EX_cpd00205_e0': 21.503909645086956,\n",
       "  'EX_cpd00107_e0': 49.6338388995029,\n",
       "  'EX_cpd00039_e0': 37.80516277590735,\n",
       "  'EX_cpd01355_e0': 873.8667005143213,\n",
       "  'EX_cpd00254_e0': 0.9557023877451001,\n",
       "  'EX_cpd20863_e0': 0.07612568875295264,\n",
       "  'EX_cpd00218_e0': 0.2509613878134037,\n",
       "  'EX_cpd00209_e0': 500.0000000000024,\n",
       "  'EX_cpd00007_e0': 1000.0,\n",
       "  'EX_cpd01080_e0': 217.54488069955084,\n",
       "  'EX_cpd00066_e0': 20.410167477302128,\n",
       "  'EX_cpd00009_e0': 22.885739621978917,\n",
       "  'EX_cpd00129_e0': 24.353059518500643,\n",
       "  'EX_cpd00263_e0': 29.031319103007593,\n",
       "  'EX_cpd00588_e0': 126.13329948567878,\n",
       "  'EX_cpd03396_e0': 1000.0,\n",
       "  'EX_cpd00048_e0': 0.47790627758365917,\n",
       "  'EX_cpd00305_e0': 0.024567335154715535,\n",
       "  'EX_cpd00161_e0': 27.94804284033328,\n",
       "  'EX_cpd15097_e0': 1000.0000000000001,\n",
       "  'EX_cpd00069_e0': 15.191646854236117,\n",
       "  'EX_cpd00034_e0': 0.03756709097649327,\n",
       "  'EX_cpd00220_e0': 0.04913467030911422},\n",
       " <Solution 8589.781 at 0x14b188df0>)"
      ]
     },
     "execution_count": 5,
     "metadata": {},
     "output_type": "execute_result"
    }
   ],
   "source": [
    "%run ../../ModelSEEDpy/modelseedpy/core/msminimalmedia.py\n",
    "\n",
    "MSMinimalMedia.minimize_flux(models[0])"
   ]
  },
  {
   "cell_type": "code",
   "execution_count": 6,
   "metadata": {},
   "outputs": [
    {
     "name": "stdout",
     "output_type": "stream",
     "text": [
      "['M_Leaf145', 'M_Leaf15']\n"
     ]
    }
   ],
   "source": [
    "print([mdl.id for mdl in models[:2]])"
   ]
  },
  {
   "cell_type": "code",
   "execution_count": 7,
   "metadata": {},
   "outputs": [
    {
     "name": "stdout",
     "output_type": "stream",
     "text": [
      "cpd11416_c0 bio1: 0.5 cpd11416_c1 + 0.5 cpd11416_c2 --> cpd11416_c0;\tcpd11416_c0 SK_cpd11416_c0: cpd11416_c0 <=> ;\tM_Leaf145 300 0.5\n",
      "M_Leaf15 300 0.5\n"
     ]
    },
    {
     "data": {
      "text/plain": [
       "<__main__.MSCommunity at 0x1aaa1dd9eb0>"
      ]
     },
     "execution_count": 7,
     "metadata": {},
     "output_type": "execute_result"
    }
   ],
   "source": [
    "%run ../../ModelSEEDpy/modelseedpy/community/mscommunity.py\n",
    "from os import system\n",
    "\n",
    "# print(system(r\"ls ../../ModelSEEDpy/modelseedpy/community\"))\n",
    "\n",
    "MSCommunity(member_models=models[:2])"
   ]
  },
  {
   "cell_type": "code",
   "execution_count": 12,
   "metadata": {},
   "outputs": [
    {
     "name": "stdout",
     "output_type": "stream",
     "text": [
      "2\n"
     ]
    }
   ],
   "source": [
    "x = \"test2\"\n",
    "t = \"test\"\n",
    "\n",
    "new_string = \"\"\n",
    "for index, let in enumerate(x):\n",
    "    if index >= len(t) or index < len(t) and let != t[index]: new_string += let\n",
    "print(new_string)"
   ]
  },
  {
   "cell_type": "code",
   "execution_count": null,
   "metadata": {},
   "outputs": [],
   "source": []
  },
  {
   "cell_type": "code",
   "execution_count": null,
   "metadata": {},
   "outputs": [],
   "source": []
  },
  {
   "cell_type": "code",
   "execution_count": null,
   "metadata": {},
   "outputs": [],
   "source": []
  },
  {
   "cell_type": "code",
   "execution_count": null,
   "metadata": {},
   "outputs": [],
   "source": []
  },
  {
   "cell_type": "code",
   "execution_count": null,
   "metadata": {},
   "outputs": [],
   "source": []
  },
  {
   "cell_type": "code",
   "execution_count": null,
   "metadata": {},
   "outputs": [],
   "source": []
  },
  {
   "cell_type": "code",
   "execution_count": null,
   "metadata": {},
   "outputs": [],
   "source": []
  },
  {
   "cell_type": "code",
   "execution_count": null,
   "metadata": {},
   "outputs": [],
   "source": []
  },
  {
   "cell_type": "code",
   "execution_count": null,
   "metadata": {},
   "outputs": [],
   "source": []
  },
  {
   "cell_type": "code",
   "execution_count": 7,
   "metadata": {},
   "outputs": [
    {
     "name": "stdout",
     "output_type": "stream",
     "text": [
      "modelseedpy_freiburgermsu 0.2.2\n",
      "The minimal flux media consists of 45 compounds and a 8487.604269204741 total influx, with a growth value of 53.14809875533804\n",
      "The minimal flux media consists of 34 compounds and a 1846.4996715020093 total influx, with a growth value of 54.805891143700826\n",
      "The minimal flux media consists of 45 compounds and a 5443.874802702165 total influx, with a growth value of 63.47927165628849\n",
      "The minimal flux media consists of 42 compounds and a 3471.6158974805503 total influx, with a growth value of 53.523654572075685\n",
      "The minimal flux media consists of 47 compounds and a 8606.73698771227 total influx, with a growth value of 110.1674222184562\n",
      "The minimal flux media consists of 41 compounds and a 4442.027200608444 total influx, with a growth value of 44.23546443719662\n",
      "The minimal flux media consists of 45 compounds and a 8487.604269205422 total influx, with a growth value of 53.148098755338005\n",
      "The minimal flux media consists of 48 compounds and a 4865.732895520938 total influx, with a growth value of 104.36945704165434\n",
      "The minimal flux media consists of 42 compounds and a 5443.142649745225 total influx, with a growth value of 72.32849370652126\n",
      "The minimal flux media consists of 32 compounds and a 2915.2852292871294 total influx, with a growth value of 83.10898054547896\n",
      "The minimal flux media consists of 41 compounds and a 3669.588498656403 total influx, with a growth value of 31.702978713209028\n",
      "The minimal media of all members:\n",
      "{'M_Leaf164': {'media': {'EX_6atha[e]': 530.4451928415302, 'EX_cpd15387_e0': 5.314809875533812, 'EX_cpd27569_e0': 10.62961975106762, 'EX_cpd00182_e0': 9.467323979377664, 'EX_cpd00024_e0': 1000.0, 'EX_cpd00051_e0': 15.720782427038973, 'EX_cpd00132_e0': 12.81161494546803, 'EX_cpd11694_e0': 0.005314809875533813, 'EX_cpd00063_e0': 0.27663585402153495, 'EX_cpd01017_e0': 4.897916188897093, 'EX_cpd00099_e0': 0.2766358540215349, 'EX_cpd00149_e0': 0.005314809875533813, 'EX_cpd00307_e0': 16.22106548062313, 'EX_cpd00058_e0': 0.03768200201753473, 'EX_cpd00438_e0': 1.3906731520321773, 'EX_cpd10516_e0': 0.41498035508168013, 'EX_cpd00027_e0': 49.16879198126224, 'EX_cpd00053_e0': 14.033861772544547, 'EX_cpd00023_e0': 4.897916188897093, 'EX_cpd00311_e0': 12.927105764063652, 'EX_cpd00001_e0': 977.5985999151711, 'EX_hishis[e]': 2.517572289941611, 'EX_istfrnA[e]': 0.3568894831420955, 'EX_cpd00205_e0': 10.374136840350738, 'EX_cpd00039_e0': 18.238354716980584, 'EX_cpd01914_e0': 8.179970731335333, 'EX_cpd00254_e0': 0.4610597567025583, 'EX_cpd20863_e0': 0.03672533623993865, 'EX_cpd00355_e0': 1000.0, 'EX_cpd00209_e0': 1000.0, 'EX_cpd00418_e0': 999.9999999993179, 'EX_cpd00007_e0': 1000.0, 'EX_cpd00532_e0': 261.5246756390901, 'EX_cpd00066_e0': 9.846482515907717, 'EX_cpd00129_e0': 1000.0, 'EX_cpd00382_e0': 76.27873596274901, 'EX_cpd00383_e0': 0.03555607806732292, 'EX_cpd00048_e0': 0.23055645240065673, 'EX_cpd00305_e0': 0.0118520260224404, 'EX_cpd00161_e0': 28.924045712235095, 'EX_cpd00151_e0': 1.3906731520321773, 'EX_cpd00065_e0': 3.021097377549685, 'EX_cpd00374_e0': 392.28701345863516, 'EX_cpd00069_e0': 7.328910225966106, 'EX_cpd00034_e0': 0.018123501675570305}}, 'M_Leaf34': {'media': {'EX_cpd00182_e0': 11.196679142983527, 'EX_cpd00024_e0': 6.262998016337396, 'EX_alathr[e]': 13.903542106488537, 'EX_cpd00051_e0': 16.211144153176868, 'EX_cpd11694_e0': 17.7654940319033, 'EX_cpd00063_e0': 0.2852646634029508, 'EX_cpd00137_e0': 0.28526466340314793, 'EX_cpd00099_e0': 0.2852646634029508, 'EX_cpd00149_e0': 0.005480589114369852, 'EX_cpd00058_e0': 0.03885737682088224, 'EX_cpd00367_e0': 16.695463813213735, 'EX_cpd00277_e0': 1.480690761029303, 'EX_cpd10515_e0': 0.7959459570799334, 'EX_cpd27103_e0': 10.9611782287397, 'EX_cpd00448_e0': 366.03657642828443, 'EX_cpd00080_e0': 190.26609100489054, 'EX_glygln[e]': 27.819908791670425, 'EX_glymet[e]': 5.684192999968786, 'EX_cpd00207_e0': 11.849636530070242, 'EX_hishis[e]': 2.5961002575858547, 'EX_cpd00359_e0': 3.115331270281255, 'EX_cpd00205_e0': 10.697726310011946, 'EX_cpd00039_e0': 18.80724441076272, 'EX_cpd03718_e0': 380.32191920892456, 'EX_cpd01914_e0': 18.673627648154497, 'EX_cpd00254_e0': 0.47544110567158476, 'EX_cpd20863_e0': 0.037870870780295676, 'EX_cpd08023_e0': 0.03156819329846178, 'EX_cpd00209_e0': 181.95679172955303, 'EX_cpd00007_e0': 513.1194273712417, 'EX_cpd00129_e0': 12.115116266770276, 'EX_cpd00048_e0': 5.269093180446355, 'EX_cpd00184_e0': 1.4340509476660166, 'EX_cpd00034_e0': 0.018688808880001198}}, 'M_Leaf8': {'media': {'EX_cpd00851_e0': 60.712861567775654, 'EX_cpd15387_e0': 6.347927165628845, 'EX_cpd00128_e0': 12.968624761580413, 'EX_cpd00051_e0': 723.6153770600592, 'EX_cpd00132_e0': 15.301995829106618, 'EX_cpd01017_e0': 1.2097651050969602e-13, 'EX_cpd00084_e0': 5.843647831591236, 'EX_cpd11594_e0': 362.9774056045672, 'EX_cpd00507_e0': 62.596465425412454, 'EX_cpd02090_e0': 1000.0000000000001, 'EX_cpd00023_e0': 1.2097651050969602e-13, 'EX_cpd00540_e0': 5.4126635791259836e-14, 'EX_cpd00207_e0': 15.369156898518975, 'EX_cpd00001_e0': 1000.0, 'EX_hishis[e]': 3.0069496190867273, 'EX_cpd00322_e0': 13.019891181950163, 'EX_cpd00107_e0': 28.599379738579298, 'EX_cpd00039_e0': 21.783610340843605, 'EX_cpd00637_e0': 9.776379197092684, 'EX_cpd00066_e0': 11.760487263402283, 'EX_cpd00129_e0': 358.05705385292123, 'EX_cpd00588_e0': 274.04518879086527, 'EX_cpd00383_e0': 0.006347927165716513, 'EX_cpd00161_e0': 21.520196194582805, 'EX_cpd00065_e0': 3.608352238758405, 'EX_cpd00069_e0': 8.753537644315553, 'EX_cpd00092_e0': 20.998625667541933, 'EX_cpd00156_e0': 26.86201555261834, 'EX_cpd00063_e0': 0.33040960897098154, 'EX_cpd00099_e0': 0.3304096089709815, 'EX_cpd00149_e0': 0.006347927165628848, 'EX_cpd00058_e0': 0.045006803604308525, 'EX_cpd10515_e0': 0.4262633091719771, 'EX_cpd10516_e0': 0.4956461530923005, 'EX_cpd00393_e0': 0.04246763273805677, 'EX_cpd00067_e0': 1000.0, 'EX_cpd00205_e0': 12.390709472405918, 'EX_cpd00254_e0': 0.5506826816183025, 'EX_cpd20863_e0': 0.043864176714495336, 'EX_cpd00007_e0': 361.3054667684539, 'EX_cpd00644_e0': 0.03656406047405391, 'EX_cpd00220_e0': 0.028311755158704655, 'EX_cpd00048_e0': 0.2753730804449793, 'EX_cpd00305_e0': 0.014155877579352329, 'EX_cpd00034_e0': 0.021646431634794374}}, 'M_Leaf233': {'media': {'EX_cpd00281_e0': 65.0504686781062, 'EX_abg4[e]': 0.03580732490871863, 'EX_cpd00024_e0': 923.2846930917648, 'EX_alatrp[e]': 3.0424450968405132, 'EX_cpd00132_e0': 12.902144552871766, 'EX_cpd00063_e0': 0.27859062204765533, 'EX_cpd00137_e0': 0.27859062204765533, 'EX_cpd00099_e0': 0.2785906220476552, 'EX_cpd00149_e0': 0.005352365457207596, 'EX_cpd00058_e0': 0.03794827109160185, 'EX_cpd00084_e0': 4.932525910744109, 'EX_cpd00438_e0': 20.413921853892212, 'EX_cpd00863_e0': 52.77930110793665, 'EX_cpd27103_e0': 10.704730914415187, 'EX_cpd15605_e0': 9.91605986429565, 'EX_cpd15606_e0': 7.380697870870982, 'EX_cpd00540_e0': 25.79270123452868, 'EX_cpd00080_e0': 1000.0, 'EX_cpd00311_e0': 10.934722058109923, 'EX_cpd00207_e0': 2.083729396146483, 'EX_hishis[e]': 2.5353619934246647, 'EX_istfrnA[e]': 0.7773240353502552, 'EX_cpd00205_e0': 10.44744270688722, 'EX_cpd00107_e0': 2.976677906362934, 'EX_lysglugly[e]': 18.367230826608147, 'EX_cpd03718_e0': 2.3775666134957967, 'EX_cpd01914_e0': 8.237772151533635, 'EX_cpd00254_e0': 0.46431770341275885, 'EX_cpd20863_e0': 0.03698484530930448, 'EX_cpd00218_e0': 0.12192688511520663, 'EX_cpd00209_e0': 492.5209318948226, 'EX_cpd00007_e0': 615.1359573246884, 'EX_cpd00064_e0': 27.663540294613732, 'EX_cpd03161_e0': 10.715435645329602, 'EX_cpd00644_e0': 0.030829625033393912, 'EX_cpd00383_e0': 0.005352365457207361, 'EX_cpd00048_e0': 0.2321856135336654, 'EX_tag180[e]': 81.9720637394996, 'EX_cpd00305_e0': 0.011935774969572934, 'EX_cpd00161_e0': 29.12842919659688, 'EX_cpd00092_e0': 17.705357314174183, 'EX_cpd00034_e0': 0.018251566209077894}}, 'M_Leaf202': {'media': {'EX_cpd00988_e0': 49.116382517344356, 'EX_cpd00989_e0': 36.44283243275391, 'EX_cpd00851_e0': 103.46164139544018, 'EX_cpd00024_e0': 1000.0, 'EX_cpd00051_e0': 32.58664215284134, 'EX_cpd00132_e0': 1000.0, 'EX_cpd01048_e0': 950.661533074386, 'EX_cpd11694_e0': 0.011016742221845531, 'EX_cpd00063_e0': 0.5734214326470601, 'EX_cpd00099_e0': 0.57342143264706, 'EX_cpd00010_e0': 0.06345643519867573, 'EX_cpd00149_e0': 0.011016742221845536, 'EX_cpd00058_e0': 0.07810870235288486, 'EX_cpd10515_e0': 1.599961472878627, 'EX_cpd00393_e0': 0.07370200546413846, 'EX_cpd00280_e0': 125.27719697240025, 'EX_cpd00023_e0': 257.23134631435966, 'EX_glymet[e]': 16.95575778622024, 'EX_cpd00311_e0': 1.9876252378697282e-13, 'EX_cpd00042_e0': 10.089132526766065, 'EX_cpd00025_e0': 5.044566263379862, 'EX_cpd00119_e0': 10.43704124613202, 'EX_cpd00322_e0': 32.00683100970561, 'EX_cpd00359_e0': 6.2622467811636575, 'EX_cpd00205_e0': 21.503909645086956, 'EX_cpd00107_e0': 49.6338388995029, 'EX_cpd00039_e0': 37.80516277590735, 'EX_cpd01355_e0': 873.8667005143213, 'EX_cpd00254_e0': 0.9557023877451001, 'EX_cpd20863_e0': 0.07612568875295264, 'EX_cpd00218_e0': 0.2509613878134037, 'EX_cpd00209_e0': 500.0000000000024, 'EX_cpd00007_e0': 1000.0, 'EX_cpd01080_e0': 217.54488069955084, 'EX_cpd00066_e0': 20.410167477302128, 'EX_cpd00009_e0': 22.885739621978917, 'EX_cpd00129_e0': 24.353059518500643, 'EX_cpd00263_e0': 29.031319103007593, 'EX_cpd00588_e0': 126.13329948567878, 'EX_cpd03396_e0': 1000.0, 'EX_cpd00048_e0': 0.47790627758365917, 'EX_cpd00305_e0': 0.024567335154715535, 'EX_cpd00161_e0': 27.94804284033328, 'EX_cpd15097_e0': 1000.0000000000001, 'EX_cpd00069_e0': 15.191646854236117, 'EX_cpd00034_e0': 0.03756709097649327, 'EX_cpd00220_e0': 0.04913467030911422}}, 'M_Leaf257': {'media': {'EX_cpd00281_e0': 985.6653650427332, 'EX_cpd00182_e0': 18.61353143227741, 'EX_cpd00024_e0': 30.28311236361101, 'EX_alathr[e]': 11.221962266678913, 'EX_cpd00051_e0': 13.084496496807049, 'EX_cpd11694_e0': 14.339058503710362, 'EX_cpd00158_e0': 456.6540977585939, 'EX_cpd00010_e0': 0.025479627515601573, 'EX_cpd00084_e0': 4.060948341727895, 'EX_cpd00367_e0': 13.47540529603877, 'EX_cpd00438_e0': 1.1574651624636676, 'EX_cpd11594_e0': 379.60292049171863, 'EX_cpd03738_e0': 48.714128269604224, 'EX_cpd00363_e0': 47.15700480958329, 'EX_cpd27103_e0': 8.84709288743918, 'EX_cpd11581_e0': 10.663179879908252, 'EX_cpd00139_e0': 3.769042585013243e-13, 'EX_glygln[e]': 11.791095752127807, 'EX_glymet[e]': 14.441552074797647, 'EX_hishis[e]': 2.095389714925532, 'EX_cpd00359_e0': 2.5144765050035263, 'EX_cpd00039_e0': 15.17988621173258, 'EX_cpd00060_e0': 5.218369268740817, 'EX_cpd00209_e0': 304.01810740027463, 'EX_cpd00064_e0': 9.77847059116434, 'EX_cpd00012_e0': 21.7719214753612, 'EX_cpd00151_e0': 7.546147858497233e-13, 'EX_cpd00184_e0': 1.157465162463668, 'EX_cpd26831_e0': 1000.0, 'EX_cpd00063_e0': 0.23024559239560463, 'EX_cpd00099_e0': 0.23024559239560466, 'EX_cpd00149_e0': 0.00442354644371959, 'EX_cpd00058_e0': 0.03136294428597172, 'EX_cpd10516_e0': 0.6424316500213959, 'EX_cpd00205_e0': 8.634453009889535, 'EX_cpd00254_e0': 0.3837426539926744, 'EX_cpd20863_e0': 0.03056670592610218, 'EX_cpd00218_e0': 0.10076838798793114, 'EX_cpd00007_e0': 1000.0, 'EX_cpd00048_e0': 0.19189344472855577, 'EX_cpd00034_e0': 0.015084293373083802}}, 'M_Leaf154': {'media': {'EX_6atha[e]': 530.4451928416131, 'EX_cpd15387_e0': 5.314809875533794, 'EX_cpd27569_e0': 10.629619751067588, 'EX_cpd00182_e0': 9.467323979383355, 'EX_cpd00024_e0': 1000.0, 'EX_cpd00051_e0': 15.720782427038921, 'EX_cpd00132_e0': 12.811614945467989, 'EX_cpd11694_e0': 0.005314809875533797, 'EX_cpd00063_e0': 0.276635854021534, 'EX_cpd01017_e0': 4.89791618889713, 'EX_cpd00099_e0': 0.27663585402153396, 'EX_cpd00149_e0': 0.005314809875533796, 'EX_cpd00307_e0': 16.22106548062313, 'EX_cpd00058_e0': 0.037682002017534605, 'EX_cpd00438_e0': 1.390673152032173, 'EX_cpd10516_e0': 0.4149803550816788, 'EX_cpd00027_e0': 49.16879198114496, 'EX_cpd00053_e0': 14.033861772544498, 'EX_cpd00023_e0': 4.89791618889713, 'EX_cpd00311_e0': 12.927105764063523, 'EX_cpd00001_e0': 977.5985999153219, 'EX_hishis[e]': 2.517572289941603, 'EX_istfrnA[e]': 0.3568894831420944, 'EX_cpd00205_e0': 10.374136840350738, 'EX_cpd00039_e0': 18.238354716980528, 'EX_cpd01914_e0': 8.179970731335306, 'EX_cpd00254_e0': 0.4610597567025567, 'EX_cpd20863_e0': 0.036725336239938525, 'EX_cpd00355_e0': 1000.0, 'EX_cpd00209_e0': 1000.0, 'EX_cpd00418_e0': 1000.0000000004705, 'EX_cpd00007_e0': 1000.0, 'EX_cpd00532_e0': 261.5246756388529, 'EX_cpd00066_e0': 9.846482515907686, 'EX_cpd00129_e0': 1000.0, 'EX_cpd00382_e0': 76.27873596274783, 'EX_cpd00383_e0': 0.0355560780673211, 'EX_cpd00048_e0': 0.230556452400656, 'EX_cpd00305_e0': 0.011852026022440362, 'EX_cpd00161_e0': 28.924045712235, 'EX_cpd00151_e0': 1.3906731520321731, 'EX_cpd00065_e0': 3.0210973775496752, 'EX_cpd00374_e0': 392.28701345827943, 'EX_cpd00069_e0': 7.328910225966083, 'EX_cpd00034_e0': 0.018123501675570242}}, 'M_Leaf145': {'media': {'EX_cpd00136_e0': 15.43518879181173, 'EX_cpd15387_e0': 10.436945704165527, 'EX_cpd27569_e0': 20.87389140833106, 'EX_cpd00182_e0': 18.59143575228387, 'EX_cpd00024_e0': 849.9671391629772, 'EX_cpd00051_e0': 30.8716504372653, 'EX_cpd00132_e0': 1000.0, 'EX_cpd11694_e0': 0.010436945704165531, 'EX_cpd00063_e0': 0.5432430239018158, 'EX_cpd00158_e0': 461.5379911777848, 'EX_cpd00099_e0': 0.5432430239018156, 'EX_cpd00149_e0': 0.01043694570416553, 'EX_cpd00058_e0': 0.0739979450425336, 'EX_cpd00084_e0': 9.618271683130574, 'EX_cpd00438_e0': 2.730931212951952, 'EX_cpd00162_e0': 1.499358704936114e-13, 'EX_cpd10516_e0': 0.8149167205812441, 'EX_cpd00393_e0': 0.06982316676089133, 'EX_cpd02090_e0': 92.24329167525896, 'EX_glucan6[e]': 5.107629814583585e-16, 'EX_cpd00139_e0': 1000.0, 'EX_cpd00311_e0': 2.7309312129519525, 'EX_cpd00207_e0': 22.538271139774327, 'EX_cpd00119_e0': 9.887753621212337, 'EX_istfrnA[e]': 0.7008409040347151, 'EX_cpd00205_e0': 20.372187428332843, 'EX_cpd00039_e0': 35.815527247871465, 'EX_cpd01355_e0': 76.92401764443001, 'EX_cpd00254_e0': 0.9054050398363598, 'EX_cpd02027_e0': 8.036917854764143, 'EX_cpd20863_e0': 0.0721192948157838, 'EX_cpd00355_e0': 0.23775362314074042, 'EX_cpd00007_e0': 1000.0, 'EX_cpd00066_e0': 8.899061754656806, 'EX_cpd00644_e0': 0.06011680725578353, 'EX_cpd00129_e0': 23.071390326343106, 'EX_cpd00220_e0': 0.046548777840578245, 'EX_cpd00383_e0': 10.436945704165293, 'EX_cpd00081_e0': 8.026480909059977, 'EX_cpd00048_e0': 0.45275470464670053, 'EX_cpd00305_e0': 0.023274388920278284, 'EX_cpd00161_e0': 56.79952843338148, 'EX_cpd00151_e0': 2.7309312129519525, 'EX_cpd00065_e0': 5.932673046618811, 'EX_cpd00069_e0': 14.392130648216098, 'EX_cpd00286_e0': 10.436945704165526, 'EX_cpd00092_e0': 31.793963329142397, 'EX_cpd00034_e0': 0.03558998485120446}}, 'M_Leaf15': {'media': {'EX_cpd00136_e0': 0.007232849370652146, 'EX_cpd00182_e0': 14.77649427876193, 'EX_cpd00024_e0': 810.3687960703356, 'EX_cpd00051_e0': 458.02693319839864, 'EX_cpd00132_e0': 17.435145050425522, 'EX_cpd00150_e0': 6.665504666018203, 'EX_cpd00438_e0': 1.2957377188167617e-13, 'EX_cpd00412_e0': 23.925904075648756, 'EX_cpd00080_e0': 63.92500766522875, 'EX_cpd00207_e0': 17.5116685967673, 'EX_cpd00025_e0': 305.38386649159384, 'EX_cpd00119_e0': 6.852256836768427, 'EX_cpd00322_e0': 21.013524948061963, 'EX_cpd00359_e0': 8.104874604263845e-16, 'EX_cpd00107_e0': 32.58622859809281, 'EX_cpd01914_e0': 11.132006137877005, 'EX_cpd00355_e0': 0.1647643086637422, 'EX_cpd00066_e0': 13.399938386538693, 'EX_cpd00129_e0': 579.3558317883355, 'EX_cpd00118_e0': 1000.0000000000604, 'EX_cpd00550_e0': 5.856655120898176, 'EX_cpd00184_e0': 9.637171916681211, 'EX_cpd00065_e0': 4.111368567759797, 'EX_cpd00268_e0': 6.665504666018204, 'EX_cpd00069_e0': 9.973809968154479, 'EX_cpd00286_e0': 7.2328493706521435, 'EX_cpd00249_e0': 1000.0, 'EX_cpd00063_e0': 0.3764698097424441, 'EX_cpd00099_e0': 0.37646980974244404, 'EX_cpd00149_e0': 0.007232849370652144, 'EX_cpd00058_e0': 0.051280902037923695, 'EX_cpd10516_e0': 1.0504267140998091, 'EX_cpd00393_e0': 0.048387762289663475, 'EX_cpd00205_e0': 14.118015672057037, 'EX_cpd00254_e0': 0.6274496829040734, 'EX_cpd20863_e0': 0.04997898915120631, 'EX_cpd00007_e0': 1000.0, 'EX_cpd00644_e0': 0.04166121237470546, 'EX_cpd00220_e0': 0.03225850819310807, 'EX_cpd00048_e0': 0.3137610056988899, 'EX_cpd00305_e0': 0.01612925409646265, 'EX_cpd00034_e0': 0.02466401635392381}}, 'M_Leaf179': {'media': {'EX_cpd27569_e0': 487.7016656917952, 'EX_cpd00182_e0': 14.804285813547407, 'EX_cpd00024_e0': 634.2209870730422, 'EX_alatrp[e]': 4.724163781146597, 'EX_cpd00132_e0': 537.73889037482, 'EX_cpd00063_e0': 0.43258224373921217, 'EX_cpd00137_e0': 0.43258224373921217, 'EX_cpd00099_e0': 0.4325822437392121, 'EX_cpd00149_e0': 0.008310898054547784, 'EX_cpd00058_e0': 0.058924267206743784, 'EX_cpd00438_e0': 2.174629584952973, 'EX_cpd10515_e0': 1.2069917244619741, 'EX_cpd35679_e0': 15.397185280757949, 'EX_cpd00311_e0': 20.1773645147922, 'EX_hishis[e]': 3.936789299458738, 'EX_cpd00205_e0': 16.222291239613458, 'EX_cpd01355_e0': 143.3999863220532, 'EX_cpd00254_e0': 0.7209704062320201, 'EX_cpd02027_e0': 14.643054391288192, 'EX_cpd20863_e0': 0.057428305556925185, 'EX_cpd00009_e0': 81.95318395302422, 'EX_cpd00644_e0': 0.04787077279436416, 'EX_cpd00129_e0': 42.95462726798857, 'EX_cpd00383_e0': 11.524306787338684, 'EX_cpd00048_e0': 22.65426146198916, 'EX_cpd00305_e0': 0.01853330266164156, 'EX_cpd00151_e0': 2.1746295849529726, 'EX_cpd00092_e0': 25.317405634588468, 'EX_cpd00034_e0': 0.02834016236600794, 'EX_cpd00218_e0': 0.1893222576829157, 'EX_cpd00007_e0': 829.8940157964214, 'EX_cpd00220_e0': 0.03706660532329596}}, 'M_Leaf304': {'media': {'EX_cpd19151_e0': 4.3717139526367825, 'EX_cpd27608_e0': 6.340595742641966, 'EX_cpd00128_e0': 5.647283301161616, 'EX_cpd00051_e0': 9.37748747953776, 'EX_cpd00132_e0': 7.642161533712795, 'EX_cpd00063_e0': 0.16501400420227405, 'EX_cpd01017_e0': 2.921619706294905, 'EX_cpd00137_e0': 528.773306450322, 'EX_cpd00099_e0': 0.16501400420225712, 'EX_cpd00149_e0': 0.003170297871320983, 'EX_cpd00307_e0': 10.487186843436241, 'EX_cpd00058_e0': 0.022477411907665768, 'EX_cpd00438_e0': 0.8295401410098484, 'EX_cpd10516_e0': 0.24753685779274237, 'EX_cpd00080_e0': 31.2620853877936, 'EX_glygln[e]': 8.371234935180482, 'EX_glymet[e]': 4.879373750771411, 'EX_cpd35679_e0': 5.873452351302818, 'EX_glyser[e]': 3.9616359229813662, 'EX_cpd00207_e0': 7.711052106456601, 'EX_hishis[e]': 1.501738398666036, 'EX_istfrnA[e]': 0.21288550205920398, 'EX_cpd00205_e0': 6.188199523967566, 'EX_cpd00107_e0': 14.283174702641134, 'EX_cpd00039_e0': 10.879225878203798, 'EX_cpd01355_e0': 344.2427483731287, 'EX_cpd00254_e0': 0.27502334033709525, 'EX_cpd20863_e0': 0.021906758290827992, 'EX_cpd08023_e0': 1.2902441260115058e-13, 'EX_cpd00007_e0': 1000.0, 'EX_cpd00644_e0': 0.018260915739149917, 'EX_cpd00129_e0': 7.008101959003912, 'EX_cpd00118_e0': 206.29966931090826, 'EX_cpd03396_e0': 420.3694735375748, 'EX_cpd00383_e0': 0.02437959063045825, 'EX_cpd00048_e0': 0.1375275216579042, 'EX_cpd00305_e0': 0.00706976425304579, 'EX_cpd00161_e0': 17.253268263388197, 'EX_cpd15097_e0': 1000.0, 'EX_cpd00065_e0': 1.802092418994986, 'EX_cpd00034_e0': 0.010810715741204551}}}\n",
      "\n",
      "Examining the 55 model pairs\n",
      "The ID ALATA_L2 is changed with {'c', '2', '1'} to create the final ID ALATA_c1\n",
      "The ID CYTB_B2 is changed with {'c', '2', '1'} to create the final ID CYTB_c1\n",
      "The ID HMR_9638 is changed with {'9', '8', '3', '1', '6', 'c'} to create the final ID HMR_c1\n",
      "The ID METSR_S1 is changed with {'c'} to create the final ID METSR_c1\n",
      "The ID RBK_L1 is changed with {'L', 'c'} to create the final ID RBK_c1\n",
      "The ID SBTD_D2 is changed with {'c', '2', '1'} to create the final ID SBTD_c1\n",
      "The ID ALATA_D2 is changed with {'c', 'D'} to create the final ID ALATA_c2\n",
      "The ID HMR_0188 is changed with {'8', '2', '1', '0', 'c'} to create the final ID HMR_c2\n",
      "The ID METSR_R1 is changed with {'2', '1', 'c'} to create the final ID METSR_c2\n",
      "The ID RBK_L1 is changed with {'L', 'c', '1', '2'} to create the final ID RBK_c2\n",
      "The ID SBTD_D2 is changed with {'c'} to create the final ID SBTD_c2\n",
      "cpd11416_c0 bio1:  --> cpd11416_c0;\tcpd11416_c0 SK_cpd11416_c0: cpd11416_c0 <=> ;\tUnexpected exception formatting exception. Falling back to standard exception\n"
     ]
    },
    {
     "name": "stderr",
     "output_type": "stream",
     "text": [
      "Traceback (most recent call last):\n",
      "  File \"/Users/afreiburger/Library/Python/3.9/lib/python/site-packages/IPython/core/interactiveshell.py\", line 3378, in run_code\n",
      "    exec(code_obj, self.user_global_ns, self.user_ns)\n",
      "  File \"/var/folders/rp/9cl8flv169g9fq27kxq24xjh0000gs/T/ipykernel_60082/3394391210.py\", line 3, in <module>\n",
      "    report_table, mets = CommScores.report_generation(models)\n",
      "  File \"/Users/afreiburger/Documents/CommScores/commscores/commscores.py\", line 495, in report_generation\n",
      "    else:  series, mets = CommScores.calculate_scores(pairs, models_media, environments, annotated_genomes, lazy_load,\n",
      "  File \"/Users/afreiburger/Documents/CommScores/commscores/commscores.py\", line 351, in calculate_scores\n",
      "    community = MSCommunity(comm_model, ids=modelIDs)\n",
      "  File \"/Users/afreiburger/Library/Python/3.9/lib/python/site-packages/modelseedpy_freiburgermsu/community/mscommunity.py\", line 117, in __init__\n",
      "    abundances = abundances or [1/len(other_biomass_cpds)]*len(other_biomass_cpds)\n",
      "ZeroDivisionError: division by zero\n",
      "\n",
      "During handling of the above exception, another exception occurred:\n",
      "\n",
      "Traceback (most recent call last):\n",
      "  File \"/Users/afreiburger/Library/Python/3.9/lib/python/site-packages/IPython/core/interactiveshell.py\", line 1997, in showtraceback\n",
      "    stb = self.InteractiveTB.structured_traceback(\n",
      "  File \"/Users/afreiburger/Library/Python/3.9/lib/python/site-packages/IPython/core/ultratb.py\", line 1112, in structured_traceback\n",
      "    return FormattedTB.structured_traceback(\n",
      "  File \"/Users/afreiburger/Library/Python/3.9/lib/python/site-packages/IPython/core/ultratb.py\", line 1006, in structured_traceback\n",
      "    return VerboseTB.structured_traceback(\n",
      "  File \"/Users/afreiburger/Library/Python/3.9/lib/python/site-packages/IPython/core/ultratb.py\", line 859, in structured_traceback\n",
      "    formatted_exception = self.format_exception_as_a_whole(etype, evalue, etb, number_of_lines_of_context,\n",
      "  File \"/Users/afreiburger/Library/Python/3.9/lib/python/site-packages/IPython/core/ultratb.py\", line 812, in format_exception_as_a_whole\n",
      "    frames.append(self.format_record(r))\n",
      "  File \"/Users/afreiburger/Library/Python/3.9/lib/python/site-packages/IPython/core/ultratb.py\", line 730, in format_record\n",
      "    result += ''.join(_format_traceback_lines(frame_info.lines, Colors, self.has_colors, lvals))\n",
      "  File \"/Users/afreiburger/Library/Python/3.9/lib/python/site-packages/stack_data/utils.py\", line 145, in cached_property_wrapper\n",
      "    value = obj.__dict__[self.func.__name__] = self.func(obj)\n",
      "  File \"/Users/afreiburger/Library/Python/3.9/lib/python/site-packages/stack_data/core.py\", line 734, in lines\n",
      "    pieces = self.included_pieces\n",
      "  File \"/Users/afreiburger/Library/Python/3.9/lib/python/site-packages/stack_data/utils.py\", line 145, in cached_property_wrapper\n",
      "    value = obj.__dict__[self.func.__name__] = self.func(obj)\n",
      "  File \"/Users/afreiburger/Library/Python/3.9/lib/python/site-packages/stack_data/core.py\", line 677, in included_pieces\n",
      "    scope_pieces = self.scope_pieces\n",
      "  File \"/Users/afreiburger/Library/Python/3.9/lib/python/site-packages/stack_data/utils.py\", line 145, in cached_property_wrapper\n",
      "    value = obj.__dict__[self.func.__name__] = self.func(obj)\n",
      "  File \"/Users/afreiburger/Library/Python/3.9/lib/python/site-packages/stack_data/core.py\", line 617, in scope_pieces\n",
      "    for piece in self.source.pieces\n",
      "  File \"/Users/afreiburger/Library/Python/3.9/lib/python/site-packages/stack_data/utils.py\", line 145, in cached_property_wrapper\n",
      "    value = obj.__dict__[self.func.__name__] = self.func(obj)\n",
      "  File \"/Users/afreiburger/Library/Python/3.9/lib/python/site-packages/stack_data/core.py\", line 106, in pieces\n",
      "    return list(self._clean_pieces())\n",
      "  File \"/Users/afreiburger/Library/Python/3.9/lib/python/site-packages/stack_data/core.py\", line 130, in _clean_pieces\n",
      "    raise AssertionError(\"Pieces mismatches: %s\" % mismatches)\n",
      "AssertionError: Pieces mismatches: [{784, 783}]\n"
     ]
    }
   ],
   "source": [
    "%run ../commscores/commscores.py\n",
    "\n",
    "report_table, mets = CommScores.report_generation(models)"
   ]
  },
  {
   "cell_type": "code",
   "execution_count": 8,
   "metadata": {},
   "outputs": [
    {
     "ename": "NameError",
     "evalue": "name 'report_table' is not defined",
     "output_type": "error",
     "traceback": [
      "\u001b[0;31m---------------------------------------------------------------------------\u001b[0m",
      "\u001b[0;31mNameError\u001b[0m                                 Traceback (most recent call last)",
      "Cell \u001b[0;32mIn [8], line 1\u001b[0m\n\u001b[0;32m----> 1\u001b[0m report_table\n",
      "\u001b[0;31mNameError\u001b[0m: name 'report_table' is not defined"
     ]
    }
   ],
   "source": [
    "report_table"
   ]
  },
  {
   "cell_type": "code",
   "execution_count": null,
   "metadata": {},
   "outputs": [],
   "source": []
  },
  {
   "cell_type": "code",
   "execution_count": null,
   "metadata": {},
   "outputs": [],
   "source": []
  }
 ],
 "metadata": {
  "kernelspec": {
   "display_name": "Python 3",
   "language": "python",
   "name": "python3"
  },
  "language_info": {
   "codemirror_mode": {
    "name": "ipython",
    "version": 3
   },
   "file_extension": ".py",
   "mimetype": "text/x-python",
   "name": "python",
   "nbconvert_exporter": "python",
   "pygments_lexer": "ipython3",
   "version": "3.9.12"
  },
  "vscode": {
   "interpreter": {
    "hash": "31f2aee4e71d21fbe5cf8b01ff0e069b9275f58929596ceb00d14d90e3e16cd6"
   }
  }
 },
 "nbformat": 4,
 "nbformat_minor": 2
}
